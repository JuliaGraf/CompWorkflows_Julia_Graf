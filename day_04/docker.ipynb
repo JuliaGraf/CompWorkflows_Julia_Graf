{
 "cells": [
  {
   "cell_type": "markdown",
   "metadata": {},
   "source": [
    "# A short introduction to containerized software\n",
    "\n",
    "After spending using nf-core pipelines to answer bioinformatic questions, we will focus on the processes that lie behind these pipelines now.\n",
    "\n",
    "Today, we will focus on containerization, namely via Docker. \n",
    "\n"
   ]
  },
  {
   "cell_type": "markdown",
   "metadata": {},
   "source": [
    "1. Check if Docker is installed."
   ]
  },
  {
   "cell_type": "code",
   "metadata": {
    "ExecuteTime": {
     "end_time": "2024-10-04T08:02:10.455821Z",
     "start_time": "2024-10-04T08:02:10.031894Z"
    }
   },
   "source": [
    "!docker info"
   ],
   "outputs": [
    {
     "name": "stdout",
     "output_type": "stream",
     "text": [
      "/bin/bash: warning: setlocale: LC_ALL: cannot change locale (en_US.UTF-8)\r\n",
      "Client:\r\n",
      " Version:    27.2.0\r\n",
      " Context:    default\r\n",
      " Debug Mode: false\r\n",
      " Plugins:\r\n",
      "  buildx: Docker Buildx (Docker Inc.)\r\n",
      "    Version:  v0.16.2-desktop.1\r\n",
      "    Path:     /usr/local/lib/docker/cli-plugins/docker-buildx\r\n",
      "  compose: Docker Compose (Docker Inc.)\r\n",
      "    Version:  v2.29.2-desktop.2\r\n",
      "    Path:     /usr/local/lib/docker/cli-plugins/docker-compose\r\n",
      "  debug: Get a shell into any image or container (Docker Inc.)\r\n",
      "    Version:  0.0.34\r\n",
      "    Path:     /usr/local/lib/docker/cli-plugins/docker-debug\r\n",
      "  desktop: Docker Desktop commands (Alpha) (Docker Inc.)\r\n",
      "    Version:  v0.0.15\r\n",
      "    Path:     /usr/local/lib/docker/cli-plugins/docker-desktop\r\n",
      "  dev: Docker Dev Environments (Docker Inc.)\r\n",
      "    Version:  v0.1.2\r\n",
      "    Path:     /usr/local/lib/docker/cli-plugins/docker-dev\r\n",
      "  extension: Manages Docker extensions (Docker Inc.)\r\n",
      "    Version:  v0.2.25\r\n",
      "    Path:     /usr/local/lib/docker/cli-plugins/docker-extension\r\n",
      "  feedback: Provide feedback, right in your terminal! (Docker Inc.)\r\n",
      "    Version:  v1.0.5\r\n",
      "    Path:     /usr/local/lib/docker/cli-plugins/docker-feedback\r\n",
      "  init: Creates Docker-related starter files for your project (Docker Inc.)\r\n",
      "    Version:  v1.3.0\r\n",
      "    Path:     /usr/local/lib/docker/cli-plugins/docker-init\r\n",
      "  sbom: View the packaged-based Software Bill Of Materials (SBOM) for an image (Anchore Inc.)\r\n",
      "    Version:  0.6.0\r\n",
      "    Path:     /usr/local/lib/docker/cli-plugins/docker-sbom\r\n",
      "  scout: Docker Scout (Docker Inc.)\r\n",
      "    Version:  v1.13.0\r\n",
      "    Path:     /usr/local/lib/docker/cli-plugins/docker-scout\r\n",
      "\r\n",
      "Server:\r\n",
      " Containers: 3\r\n",
      "  Running: 0\r\n",
      "  Paused: 0\r\n",
      "  Stopped: 3\r\n",
      " Images: 20\r\n",
      " Server Version: 27.2.0\r\n",
      " Storage Driver: overlay2\r\n",
      "  Backing Filesystem: extfs\r\n",
      "  Supports d_type: true\r\n",
      "  Using metacopy: false\r\n",
      "  Native Overlay Diff: true\r\n",
      "  userxattr: false\r\n",
      " Logging Driver: json-file\r\n",
      " Cgroup Driver: cgroupfs\r\n",
      " Cgroup Version: 1\r\n",
      " Plugins:\r\n",
      "  Volume: local\r\n",
      "  Network: bridge host ipvlan macvlan null overlay\r\n",
      "  Log: awslogs fluentd gcplogs gelf journald json-file local splunk syslog\r\n",
      " Swarm: inactive\r\n",
      " Runtimes: nvidia runc io.containerd.runc.v2\r\n",
      " Default Runtime: runc\r\n",
      " Init Binary: docker-init\r\n",
      " containerd version: 8fc6bcff51318944179630522a095cc9dbf9f353\r\n",
      " runc version: v1.1.13-0-g58aa920\r\n",
      " init version: de40ad0\r\n",
      " Security Options:\r\n",
      "  seccomp\r\n",
      "   Profile: unconfined\r\n",
      " Kernel Version: 5.15.153.1-microsoft-standard-WSL2\r\n",
      " Operating System: Docker Desktop\r\n",
      " OSType: linux\r\n",
      " Architecture: x86_64\r\n",
      " CPUs: 2\r\n",
      " Total Memory: 7.581GiB\r\n",
      " Name: docker-desktop\r\n",
      " ID: be8bf4a5-6838-4193-98ba-902c429ba968\r\n",
      " Docker Root Dir: /var/lib/docker\r\n",
      " Debug Mode: false\r\n",
      " HTTP Proxy: http.docker.internal:3128\r\n",
      " HTTPS Proxy: http.docker.internal:3128\r\n",
      " No Proxy: hubproxy.docker.internal\r\n",
      " Labels:\r\n",
      "  com.docker.desktop.address=unix:///var/run/docker-cli.sock\r\n",
      " Experimental: false\r\n",
      " Insecure Registries:\r\n",
      "  hubproxy.docker.internal:5555\r\n",
      "  127.0.0.0/8\r\n",
      " Live Restore Enabled: false\r\n",
      "\r\n",
      "WARNING: No blkio throttle.read_bps_device support\r\n",
      "WARNING: No blkio throttle.write_bps_device support\r\n",
      "WARNING: No blkio throttle.read_iops_device support\r\n",
      "WARNING: No blkio throttle.write_iops_device support\r\n",
      "WARNING: daemon is not using the default seccomp profile\r\n"
     ]
    }
   ],
   "execution_count": 5
  },
  {
   "cell_type": "markdown",
   "metadata": {},
   "source": [
    "### What is a container?"
   ]
  },
  {
   "metadata": {},
   "cell_type": "markdown",
   "source": "A container is a package of software that includes code and all its dependencies needed to run an application [[Source]](https://www.docker.com/resources/what-container/)."
  },
  {
   "cell_type": "markdown",
   "metadata": {},
   "source": [
    "### Why do we use containers?"
   ]
  },
  {
   "metadata": {},
   "cell_type": "markdown",
   "source": "Using a container makes it easy to run an application because your do not have to take care of installing all dependencies yourself. It also makes sure that the computations are not influenced by the computing environment and will always deliver the same results regardless of the infrastructure [[Source]](https://www.docker.com/resources/what-container/)."
  },
  {
   "cell_type": "markdown",
   "metadata": {},
   "source": [
    "### What is a docker image?"
   ]
  },
  {
   "metadata": {},
   "cell_type": "markdown",
   "source": "A docker image is an unchangeable template from which docker containers are created. The image contains all the files, binaries, libraries, and configurations required to run a container [[Source]](https://docs.docker.com/get-started/docker-concepts/the-basics/what-is-an-image/)."
  },
  {
   "cell_type": "markdown",
   "metadata": {},
   "source": [
    "### Let's run our first docker image:"
   ]
  },
  {
   "cell_type": "markdown",
   "metadata": {},
   "source": [
    "### Login to docker"
   ]
  },
  {
   "cell_type": "code",
   "execution_count": null,
   "metadata": {},
   "outputs": [],
   "source": [
    "# This you need to do on the command line directly"
   ]
  },
  {
   "cell_type": "markdown",
   "metadata": {},
   "source": [
    "### Run your first docker container"
   ]
  },
  {
   "cell_type": "code",
   "metadata": {
    "ExecuteTime": {
     "end_time": "2024-10-04T08:03:01.319360Z",
     "start_time": "2024-10-04T08:02:56.831055Z"
    }
   },
   "source": [
    "!docker run hello-world"
   ],
   "outputs": [
    {
     "name": "stdout",
     "output_type": "stream",
     "text": [
      "/bin/bash: warning: setlocale: LC_ALL: cannot change locale (en_US.UTF-8)\r\n",
      "Unable to find image 'hello-world:latest' locally\r\n",
      "latest: Pulling from library/hello-world\r\n",
      "\r\n",
      "\u001B[1BDigest: sha256:91fb4b041da273d5a3273b6d587d62d518300a6ad268b28628f74997b93171b2\r\n",
      "Status: Downloaded newer image for hello-world:latest\r\n",
      "\r\n",
      "Hello from Docker!\r\n",
      "This message shows that your installation appears to be working correctly.\r\n",
      "\r\n",
      "To generate this message, Docker took the following steps:\r\n",
      " 1. The Docker client contacted the Docker daemon.\r\n",
      " 2. The Docker daemon pulled the \"hello-world\" image from the Docker Hub.\r\n",
      "    (amd64)\r\n",
      " 3. The Docker daemon created a new container from that image which runs the\r\n",
      "    executable that produces the output you are currently reading.\r\n",
      " 4. The Docker daemon streamed that output to the Docker client, which sent it\r\n",
      "    to your terminal.\r\n",
      "\r\n",
      "To try something more ambitious, you can run an Ubuntu container with:\r\n",
      " $ docker run -it ubuntu bash\r\n",
      "\r\n",
      "Share images, automate workflows, and more with a free Docker ID:\r\n",
      " https://hub.docker.com/\r\n",
      "\r\n",
      "For more examples and ideas, visit:\r\n",
      " https://docs.docker.com/get-started/\r\n",
      "\r\n"
     ]
    }
   ],
   "execution_count": 6
  },
  {
   "cell_type": "markdown",
   "metadata": {},
   "source": [
    "### Find the container ID"
   ]
  },
  {
   "cell_type": "code",
   "metadata": {
    "ExecuteTime": {
     "end_time": "2024-10-04T08:06:54.016500Z",
     "start_time": "2024-10-04T08:06:53.744501Z"
    }
   },
   "source": "!docker --help",
   "outputs": [
    {
     "name": "stdout",
     "output_type": "stream",
     "text": [
      "/bin/bash: warning: setlocale: LC_ALL: cannot change locale (en_US.UTF-8)\r\n",
      "\r\n",
      "Usage:  docker [OPTIONS] COMMAND\r\n",
      "\r\n",
      "A self-sufficient runtime for containers\r\n",
      "\r\n",
      "Common Commands:\r\n",
      "  run         Create and run a new container from an image\r\n",
      "  exec        Execute a command in a running container\r\n",
      "  ps          List containers\r\n",
      "  build       Build an image from a Dockerfile\r\n",
      "  pull        Download an image from a registry\r\n",
      "  push        Upload an image to a registry\r\n",
      "  images      List images\r\n",
      "  login       Log in to a registry\r\n",
      "  logout      Log out from a registry\r\n",
      "  search      Search Docker Hub for images\r\n",
      "  version     Show the Docker version information\r\n",
      "  info        Display system-wide information\r\n",
      "\r\n",
      "Management Commands:\r\n",
      "  builder     Manage builds\r\n",
      "  buildx*     Docker Buildx\r\n",
      "  compose*    Docker Compose\r\n",
      "  container   Manage containers\r\n",
      "  context     Manage contexts\r\n",
      "  debug*      Get a shell into any image or container\r\n",
      "  desktop*    Docker Desktop commands (Alpha)\r\n",
      "  dev*        Docker Dev Environments\r\n",
      "  extension*  Manages Docker extensions\r\n",
      "  feedback*   Provide feedback, right in your terminal!\r\n",
      "  image       Manage images\r\n",
      "  init*       Creates Docker-related starter files for your project\r\n",
      "  manifest    Manage Docker image manifests and manifest lists\r\n",
      "  network     Manage networks\r\n",
      "  plugin      Manage plugins\r\n",
      "  sbom*       View the packaged-based Software Bill Of Materials (SBOM) for an image\r\n",
      "  scout*      Docker Scout\r\n",
      "  system      Manage Docker\r\n",
      "  trust       Manage trust on Docker images\r\n",
      "  volume      Manage volumes\r\n",
      "\r\n",
      "Swarm Commands:\r\n",
      "  swarm       Manage Swarm\r\n",
      "\r\n",
      "Commands:\r\n",
      "  attach      Attach local standard input, output, and error streams to a running container\r\n",
      "  commit      Create a new image from a container's changes\r\n",
      "  cp          Copy files/folders between a container and the local filesystem\r\n",
      "  create      Create a new container\r\n",
      "  diff        Inspect changes to files or directories on a container's filesystem\r\n",
      "  events      Get real time events from the server\r\n",
      "  export      Export a container's filesystem as a tar archive\r\n",
      "  history     Show the history of an image\r\n",
      "  import      Import the contents from a tarball to create a filesystem image\r\n",
      "  inspect     Return low-level information on Docker objects\r\n",
      "  kill        Kill one or more running containers\r\n",
      "  load        Load an image from a tar archive or STDIN\r\n",
      "  logs        Fetch the logs of a container\r\n",
      "  pause       Pause all processes within one or more containers\r\n",
      "  port        List port mappings or a specific mapping for the container\r\n",
      "  rename      Rename a container\r\n",
      "  restart     Restart one or more containers\r\n",
      "  rm          Remove one or more containers\r\n",
      "  rmi         Remove one or more images\r\n",
      "  save        Save one or more images to a tar archive (streamed to STDOUT by default)\r\n",
      "  start       Start one or more stopped containers\r\n",
      "  stats       Display a live stream of container(s) resource usage statistics\r\n",
      "  stop        Stop one or more running containers\r\n",
      "  tag         Create a tag TARGET_IMAGE that refers to SOURCE_IMAGE\r\n",
      "  top         Display the running processes of a container\r\n",
      "  unpause     Unpause all processes within one or more containers\r\n",
      "  update      Update configuration of one or more containers\r\n",
      "  wait        Block until one or more containers stop, then print their exit codes\r\n",
      "\r\n",
      "Global Options:\r\n",
      "      --config string      Location of client config files (default\r\n",
      "                           \"/home/julia/.docker\")\r\n",
      "  -c, --context string     Name of the context to use to connect to the\r\n",
      "                           daemon (overrides DOCKER_HOST env var and\r\n",
      "                           default context set with \"docker context use\")\r\n",
      "  -D, --debug              Enable debug mode\r\n",
      "  -H, --host list          Daemon socket to connect to\r\n",
      "  -l, --log-level string   Set the logging level (\"debug\", \"info\",\r\n",
      "                           \"warn\", \"error\", \"fatal\") (default \"info\")\r\n",
      "      --tls                Use TLS; implied by --tlsverify\r\n",
      "      --tlscacert string   Trust certs signed only by this CA (default\r\n",
      "                           \"/home/julia/.docker/ca.pem\")\r\n",
      "      --tlscert string     Path to TLS certificate file (default\r\n",
      "                           \"/home/julia/.docker/cert.pem\")\r\n",
      "      --tlskey string      Path to TLS key file (default\r\n",
      "                           \"/home/julia/.docker/key.pem\")\r\n",
      "      --tlsverify          Use TLS and verify the remote\r\n",
      "  -v, --version            Print version information and quit\r\n",
      "\r\n",
      "Run 'docker COMMAND --help' for more information on a command.\r\n",
      "\r\n",
      "For more help on how to use Docker, head to https://docs.docker.com/go/guides/\r\n"
     ]
    }
   ],
   "execution_count": 7
  },
  {
   "metadata": {
    "ExecuteTime": {
     "end_time": "2024-10-04T08:12:14.454137Z",
     "start_time": "2024-10-04T08:12:14.302229Z"
    }
   },
   "cell_type": "code",
   "source": "!docker ps -a",
   "outputs": [
    {
     "name": "stdout",
     "output_type": "stream",
     "text": [
      "/bin/bash: warning: setlocale: LC_ALL: cannot change locale (en_US.UTF-8)\r\n",
      "CONTAINER ID   IMAGE                                                 COMMAND                  CREATED         STATUS                     PORTS     NAMES\r\n",
      "31b020bd3e8f   hello-world                                           \"/hello\"                 9 minutes ago   Exited (0) 9 minutes ago             charming_goldberg\r\n",
      "0a005d86b72b   quay.io/biocontainers/trim-galore:0.6.7--hdfd78af_0   \"/usr/local/env-exec…\"   2 days ago      Exited (137) 2 days ago              nxf-wk0TJxRGXheirSoX5kelNjbQ\r\n",
      "68e212e12352   quay.io/biocontainers/python:3.9--1                   \"/usr/local/env-exec…\"   3 days ago      Exited (0) 3 days ago                nxf-mj8T5jSkBbftWpzbiyROgMZC\r\n",
      "071fd6a33431   quay.io/biocontainers/python:3.9--1                   \"/usr/local/env-exec…\"   3 days ago      Exited (0) 3 days ago                nxf-up0Hnsry2UyHx6wbxoVfm4pw\r\n"
     ]
    }
   ],
   "execution_count": 13
  },
  {
   "metadata": {},
   "cell_type": "markdown",
   "source": "The container id is `31b020bd3e8fd38e3e91beb110a9882993f4c9c203d5d723539c91e6893b1887`"
  },
  {
   "cell_type": "markdown",
   "metadata": {},
   "source": [
    "### Delete the container again, give prove its deleted"
   ]
  },
  {
   "cell_type": "code",
   "metadata": {
    "ExecuteTime": {
     "end_time": "2024-10-04T08:12:40.732530Z",
     "start_time": "2024-10-04T08:12:40.562275Z"
    }
   },
   "source": "!docker rm 31b020bd3e8fd38e3e91beb110a9882993f4c9c203d5d723539c91e6893b1887",
   "outputs": [
    {
     "name": "stdout",
     "output_type": "stream",
     "text": [
      "/bin/bash: warning: setlocale: LC_ALL: cannot change locale (en_US.UTF-8)\r\n",
      "31b020bd3e8fd38e3e91beb110a9882993f4c9c203d5d723539c91e6893b1887\r\n"
     ]
    }
   ],
   "execution_count": 14
  },
  {
   "cell_type": "code",
   "metadata": {
    "ExecuteTime": {
     "end_time": "2024-10-04T08:12:58.842521Z",
     "start_time": "2024-10-04T08:12:58.698232Z"
    }
   },
   "source": "!docker ps -a",
   "outputs": [
    {
     "name": "stdout",
     "output_type": "stream",
     "text": [
      "/bin/bash: warning: setlocale: LC_ALL: cannot change locale (en_US.UTF-8)\r\n",
      "CONTAINER ID   IMAGE                                                 COMMAND                  CREATED      STATUS                    PORTS     NAMES\r\n",
      "0a005d86b72b   quay.io/biocontainers/trim-galore:0.6.7--hdfd78af_0   \"/usr/local/env-exec…\"   2 days ago   Exited (137) 2 days ago             nxf-wk0TJxRGXheirSoX5kelNjbQ\r\n",
      "68e212e12352   quay.io/biocontainers/python:3.9--1                   \"/usr/local/env-exec…\"   3 days ago   Exited (0) 3 days ago               nxf-mj8T5jSkBbftWpzbiyROgMZC\r\n",
      "071fd6a33431   quay.io/biocontainers/python:3.9--1                   \"/usr/local/env-exec…\"   3 days ago   Exited (0) 3 days ago               nxf-up0Hnsry2UyHx6wbxoVfm4pw\r\n"
     ]
    }
   ],
   "execution_count": 15
  },
  {
   "cell_type": "markdown",
   "metadata": {},
   "source": [
    "### FASTQC is a very useful tool as you've learned last week. Let's try and run it from command line\n",
    "\n",
    "Link to the software: https://www.bioinformatics.babraham.ac.uk/projects/fastqc/"
   ]
  },
  {
   "cell_type": "markdown",
   "metadata": {},
   "source": [
    "Please describe the steps you took to download and run the software for the example fastq file from last week below:"
   ]
  },
  {
   "cell_type": "markdown",
   "metadata": {},
   "source": [
    "1. Download the Win/Linux zip file\n",
    "2. Take a look at the INSTALL.txt\n",
    "3. Unzip the zip file it comes in into a suitable location\n",
    "4. Run `./fastqc /mnt/c/Users/julia/Documents/Uni/Master/Semester_2/CompWorkflows/day_02/results/fastq/SRX19144488_SRR23195511_1.fastq.gz /mnt/c/Users/julia/Documents/Uni/Master/Semester_2/CompWorkflows/day_02/results/fastq/SRX19144488_SRR23195511_2.fastq.gz /mnt/c/Users/julia/Documents/Uni/Master/Semester_2/CompWorkflows/day_02/results/fastq/SRX19144486_SRR23195516_1.fastq.gz /mnt/c/Users/julia/Documents/Uni/Master/Semester_2/CompWorkflows/day_02/results/fastq/SRX19144486_SRR23195516_2.fastq.gz  --outdir=/mnt/c/Users/julia/Documents/Uni/Master/Semester_2/CompWorkflows/day_04/fastqc_results_local`"
   ]
  },
  {
   "cell_type": "markdown",
   "metadata": {},
   "source": [
    "### Very well, now let's try to make use of its docker container\n",
    "\n",
    "1. create a container holding fastqc using seqera containers (https://seqera.io/containers/)\n",
    "2. use the container to generate a fastqc html of the example fastq file"
   ]
  },
  {
   "cell_type": "code",
   "metadata": {
    "ExecuteTime": {
     "end_time": "2024-10-04T08:32:28.730329Z",
     "start_time": "2024-10-04T08:31:16.173034Z"
    }
   },
   "source": [
    "# pull the container\n",
    "!docker container create community.wave.seqera.io/library/fastqc:0.12.1--5cfd0f3cb6760c42"
   ],
   "outputs": [
    {
     "name": "stdout",
     "output_type": "stream",
     "text": [
      "/bin/bash: warning: setlocale: LC_ALL: cannot change locale (en_US.UTF-8)\r\n",
      "Unable to find image 'community.wave.seqera.io/library/fastqc:0.12.1--5cfd0f3cb6760c42' locally\r\n",
      "0.12.1--5cfd0f3cb6760c42: Pulling from library/fastqc\r\n",
      "\r\n",
      "\u001B[1Bb3717211: Pulling fs layer \r\n",
      "\u001B[1Bf7ad9b3c: Pulling fs layer \r\n",
      "\u001B[1Bca300600: Pulling fs layer \r\n",
      "\u001B[1Bb700ef54: Pulling fs layer \r\n",
      "\u001B[1Bd418774c: Pulling fs layer \r\n",
      "\u001B[1Be77ff45c: Pulling fs layer \r\n",
      "\u001B[1Bf787139d: Pulling fs layer \r\n",
      "\u001B[1B55536720: Pulling fs layer \r\n",
      "\u001B[1B62c12ca7: Pulling fs layer \r\n",
      "\u001B[1Bcbe24e91: Pulling fs layer \r\n",
      "\u001B[1B1e94977b: Pulling fs layer \r\n",
      "\u001B[2B1e94977b: Waiting fs layer \r\n",
      "\u001B[1B6e1d0b98: Pull complete 4.5MB/404.5MBB\u001B[13A\u001B[2K\u001B[11A\u001B[2K\u001B[13A\u001B[2K\u001B[11A\u001B[2K\u001B[13A\u001B[2K\u001B[11A\u001B[2K\u001B[13A\u001B[2K\u001B[10A\u001B[2K\u001B[13A\u001B[2K\u001B[11A\u001B[2K\u001B[13A\u001B[2K\u001B[13A\u001B[2K\u001B[13A\u001B[2K\u001B[11A\u001B[2K\u001B[11A\u001B[2K\u001B[11A\u001B[2K\u001B[13A\u001B[2K\u001B[8A\u001B[2K\u001B[13A\u001B[2K\u001B[13A\u001B[2K\u001B[7A\u001B[2K\u001B[6A\u001B[2K\u001B[13A\u001B[2K\u001B[4A\u001B[2K\u001B[13A\u001B[2K\u001B[13A\u001B[2K\u001B[13A\u001B[2K\u001B[2A\u001B[2K\u001B[13A\u001B[2K\u001B[13A\u001B[2K\u001B[1A\u001B[2K\u001B[1A\u001B[2K\u001B[13A\u001B[2K\u001B[13A\u001B[2K\u001B[1A\u001B[2K\u001B[13A\u001B[2K\u001B[13A\u001B[2K\u001B[1A\u001B[2K\u001B[13A\u001B[2K\u001B[1A\u001B[2K\u001B[13A\u001B[2K\u001B[1A\u001B[2K\u001B[13A\u001B[2K\u001B[1A\u001B[2K\u001B[13A\u001B[2K\u001B[1A\u001B[2K\u001B[13A\u001B[2K\u001B[1A\u001B[2K\u001B[13A\u001B[2K\u001B[13A\u001B[2K\u001B[13A\u001B[2K\u001B[1A\u001B[2K\u001B[13A\u001B[2K\u001B[1A\u001B[2K\u001B[13A\u001B[2K\u001B[13A\u001B[2K\u001B[13A\u001B[2K\u001B[1A\u001B[2K\u001B[13A\u001B[2K\u001B[1A\u001B[2K\u001B[13A\u001B[2K\u001B[1A\u001B[2K\u001B[1A\u001B[2K\u001B[13A\u001B[2K\u001B[1A\u001B[2K\u001B[1A\u001B[2K\u001B[13A\u001B[2K\u001B[1A\u001B[2K\u001B[1A\u001B[2K\u001B[13A\u001B[2K\u001B[1A\u001B[2K\u001B[13A\u001B[2K\u001B[1A\u001B[2K\u001B[1A\u001B[2K\u001B[13A\u001B[2K\u001B[1A\u001B[2K\u001B[1A\u001B[2K\u001B[1A\u001B[2K\u001B[13A\u001B[2K\u001B[1A\u001B[2K\u001B[13A\u001B[2K\u001B[1A\u001B[2K\u001B[13A\u001B[2K\u001B[13A\u001B[2K\u001B[1A\u001B[2K\u001B[13A\u001B[2K\u001B[13A\u001B[2K\u001B[13A\u001B[2K\u001B[1A\u001B[2K\u001B[1A\u001B[2K\u001B[1A\u001B[2K\u001B[13A\u001B[2K\u001B[1A\u001B[2K\u001B[13A\u001B[2K\u001B[1A\u001B[2K\u001B[13A\u001B[2K\u001B[1A\u001B[2K\u001B[13A\u001B[2K\u001B[1A\u001B[2K\u001B[1A\u001B[2K\u001B[1A\u001B[2K\u001B[13A\u001B[2K\u001B[1A\u001B[2K\u001B[1A\u001B[2K\u001B[1A\u001B[2K\u001B[13A\u001B[2K\u001B[1A\u001B[2K\u001B[1A\u001B[2K\u001B[13A\u001B[2K\u001B[12A\u001B[2K\u001B[12A\u001B[2K\u001B[11A\u001B[2K\u001B[11A\u001B[2K\u001B[11A\u001B[2K\u001B[11A\u001B[2K\u001B[1A\u001B[2K\u001B[11A\u001B[2K\u001B[11A\u001B[2K\u001B[1A\u001B[2K\u001B[9A\u001B[2K\u001B[8A\u001B[2K\u001B[7A\u001B[2K\u001B[7A\u001B[2K\u001B[1A\u001B[2K\u001B[6A\u001B[2K\u001B[5A\u001B[2K\u001B[1A\u001B[2K\u001B[3A\u001B[2K\u001B[3A\u001B[2K\u001B[2A\u001B[2K\u001B[1A\u001B[2K\u001B[1A\u001B[2K\u001B[1A\u001B[2K\u001B[1A\u001B[2K\u001B[1A\u001B[2K\u001B[1A\u001B[2K\u001B[1A\u001B[2K\u001B[1A\u001B[2K\u001B[1A\u001B[2K\u001B[1A\u001B[2K\u001B[1A\u001B[2K\u001B[1A\u001B[2K\u001B[1A\u001B[2K\u001B[1A\u001B[2K\u001B[1A\u001B[2K\u001B[1A\u001B[2K\u001B[1A\u001B[2K\u001B[1A\u001B[2K\u001B[1A\u001B[2K\u001B[1A\u001B[2K\u001B[1A\u001B[2K\u001B[1A\u001B[2K\u001B[1A\u001B[2K\u001B[1A\u001B[2K\u001B[1A\u001B[2K\u001B[1A\u001B[2K\u001B[1A\u001B[2K\u001B[1A\u001B[2K\u001B[1A\u001B[2K\u001B[1A\u001B[2K\u001B[1A\u001B[2K\u001B[1A\u001B[2K\u001B[1A\u001B[2K\u001B[1A\u001B[2K\u001B[1A\u001B[2K\u001B[1A\u001B[2K\u001B[1A\u001B[2K\u001B[1A\u001B[2K\u001B[1A\u001B[2K\u001B[1A\u001B[2K\u001B[1A\u001B[2K\u001B[1A\u001B[2K\u001B[1A\u001B[2K\u001B[1A\u001B[2K\u001B[1A\u001B[2K\u001B[1A\u001B[2K\u001B[1A\u001B[2K\u001B[1A\u001B[2K\u001B[1A\u001B[2K\u001B[1A\u001B[2K\u001B[1A\u001B[2K\u001B[1A\u001B[2K\u001B[1A\u001B[2K\u001B[1A\u001B[2K\u001B[1A\u001B[2K\u001B[1A\u001B[2K\u001B[1A\u001B[2K\u001B[1A\u001B[2K\u001B[1A\u001B[2K\u001B[1A\u001B[2K\u001B[1A\u001B[2K\u001B[1A\u001B[2K\u001B[1A\u001B[2K\u001B[1A\u001B[2K\u001B[1A\u001B[2K\u001B[1A\u001B[2K\u001B[1A\u001B[2K\u001B[1A\u001B[2K\u001B[1A\u001B[2K\u001B[1A\u001B[2K\u001B[1A\u001B[2K\u001B[1A\u001B[2K\u001B[1A\u001B[2K\u001B[1A\u001B[2K\u001B[1A\u001B[2K\u001B[1A\u001B[2K\u001B[1A\u001B[2K\u001B[1A\u001B[2K\u001B[1A\u001B[2K\u001B[1A\u001B[2K\u001B[1A\u001B[2K\u001B[1A\u001B[2K\u001B[1A\u001B[2K\u001B[1A\u001B[2K\u001B[1A\u001B[2K\u001B[1A\u001B[2K\u001B[1A\u001B[2K\u001B[1A\u001B[2K\u001B[1A\u001B[2K\u001B[1A\u001B[2K\u001B[1A\u001B[2K\u001B[1A\u001B[2K\u001B[1A\u001B[2K\u001B[1A\u001B[2K\u001B[1A\u001B[2K\u001B[1A\u001B[2K\u001B[1A\u001B[2K\u001B[1A\u001B[2K\u001B[1A\u001B[2K\u001B[1A\u001B[2K\u001B[1A\u001B[2K\u001B[1A\u001B[2K\u001B[1A\u001B[2K\u001B[1A\u001B[2K\u001B[1A\u001B[2K\u001B[1A\u001B[2K\u001B[1A\u001B[2K\u001B[1A\u001B[2K\u001B[1A\u001B[2K\u001B[1A\u001B[2K\u001B[1A\u001B[2K\u001B[1A\u001B[2K\u001B[1A\u001B[2K\u001B[1A\u001B[2K\u001B[1A\u001B[2K\u001B[1A\u001B[2K\u001B[1A\u001B[2K\u001B[1A\u001B[2K\u001B[1A\u001B[2K\u001B[1A\u001B[2K\u001B[1A\u001B[2K\u001B[1A\u001B[2K\u001B[1A\u001B[2K\u001B[1A\u001B[2K\u001B[1A\u001B[2K\u001B[1A\u001B[2K\u001B[1A\u001B[2K\u001B[1A\u001B[2K\u001B[1A\u001B[2K\u001B[1A\u001B[2K\u001B[1A\u001B[2K\u001B[1A\u001B[2K\u001B[1A\u001B[2K\u001B[1A\u001B[2K\u001B[1A\u001B[2K\u001B[1A\u001B[2K\u001B[1A\u001B[2K\u001B[1A\u001B[2K\u001B[1A\u001B[2K\u001B[1A\u001B[2K\u001B[1A\u001B[2K\u001B[1A\u001B[2K\u001B[1A\u001B[2K\u001B[1A\u001B[2K\u001B[1A\u001B[2K\u001B[1A\u001B[2K\u001B[1A\u001B[2K\u001B[1A\u001B[2K\u001B[1A\u001B[2K\u001B[1A\u001B[2K\u001B[1A\u001B[2K\u001B[1A\u001B[2K\u001B[1A\u001B[2K\u001B[1A\u001B[2K\u001B[1A\u001B[2K\u001B[1A\u001B[2K\u001B[1A\u001B[2K\u001B[1A\u001B[2K\u001B[1A\u001B[2K\u001B[1A\u001B[2K\u001B[1A\u001B[2K\u001B[1A\u001B[2K\u001B[1A\u001B[2K\u001B[1A\u001B[2K\u001B[1A\u001B[2K\u001B[1A\u001B[2K\u001B[1A\u001B[2K\u001B[1A\u001B[2K\u001B[1A\u001B[2K\u001B[1A\u001B[2K\u001B[1A\u001B[2K\u001B[1A\u001B[2K\u001B[1A\u001B[2K\u001B[1A\u001B[2K\u001B[1A\u001B[2K\u001B[1A\u001B[2K\u001B[1A\u001B[2K\u001B[1A\u001B[2K\u001B[1A\u001B[2K\u001B[1A\u001B[2K\u001B[1A\u001B[2K\u001B[1A\u001B[2K\u001B[1A\u001B[2K\u001B[1A\u001B[2K\u001B[1A\u001B[2K\u001B[1A\u001B[2K\u001B[1A\u001B[2K\u001B[1A\u001B[2K\u001B[1A\u001B[2K\u001B[1A\u001B[2K\u001B[1A\u001B[2K\u001B[1A\u001B[2K\u001B[1A\u001B[2K\u001B[1A\u001B[2K\u001B[1A\u001B[2K\u001B[1A\u001B[2K\u001B[1A\u001B[2K\u001B[1A\u001B[2K\u001B[1A\u001B[2K\u001B[1A\u001B[2K\u001B[1A\u001B[2K\u001B[1A\u001B[2K\u001B[1A\u001B[2K\u001B[1A\u001B[2K\u001B[1A\u001B[2K\u001B[1A\u001B[2K\u001B[1A\u001B[2K\u001B[1A\u001B[2K\u001B[1A\u001B[2K\u001B[1A\u001B[2K\u001B[1A\u001B[2K\u001B[1A\u001B[2K\u001B[1A\u001B[2K\u001B[1A\u001B[2K\u001B[1A\u001B[2K\u001B[1A\u001B[2K\u001B[1A\u001B[2K\u001B[1A\u001B[2K\u001B[1A\u001B[2K\u001B[1A\u001B[2K\u001B[1A\u001B[2K\u001B[1A\u001B[2K\u001B[1A\u001B[2K\u001B[1A\u001B[2K\u001B[1A\u001B[2K\u001B[1A\u001B[2K\u001B[1A\u001B[2K\u001B[1A\u001B[2K\u001B[1A\u001B[2K\u001B[1A\u001B[2K\u001B[1A\u001B[2K\u001B[1A\u001B[2K\u001B[1A\u001B[2K\u001B[1A\u001B[2K\u001B[1A\u001B[2K\u001B[1A\u001B[2K\u001B[1A\u001B[2K\u001B[1A\u001B[2K\u001B[1A\u001B[2K\u001B[1A\u001B[2K\u001B[1A\u001B[2K\u001B[1A\u001B[2K\u001B[1A\u001B[2K\u001B[1A\u001B[2K\u001B[1A\u001B[2K\u001B[1A\u001B[2K\u001B[1A\u001B[2K\u001B[1A\u001B[2K\u001B[1A\u001B[2K\u001B[1A\u001B[2K\u001B[1A\u001B[2K\u001B[1A\u001B[2K\u001B[1A\u001B[2K\u001B[1A\u001B[2K\u001B[1A\u001B[2K\u001B[1A\u001B[2K\u001B[1A\u001B[2K\u001B[1A\u001B[2K\u001B[1A\u001B[2K\u001B[1A\u001B[2K\u001B[1A\u001B[2K\u001B[1A\u001B[2K\u001B[1A\u001B[2K\u001B[1A\u001B[2K\u001B[1A\u001B[2K\u001B[1A\u001B[2K\u001B[1A\u001B[2K\u001B[1A\u001B[2K\u001B[1A\u001B[2K\u001B[1A\u001B[2K\u001B[1A\u001B[2K\u001B[1A\u001B[2K\u001B[1A\u001B[2K\u001B[1A\u001B[2K\u001B[1A\u001B[2K\u001B[1A\u001B[2K\u001B[1A\u001B[2K\u001B[1A\u001B[2K\u001B[1A\u001B[2K\u001B[1A\u001B[2K\u001B[1A\u001B[2K\u001B[1A\u001B[2K\u001B[1A\u001B[2K\u001B[1A\u001B[2K\u001B[1A\u001B[2K\u001B[1A\u001B[2K\u001B[1A\u001B[2K\u001B[1A\u001B[2K\u001B[1A\u001B[2K\u001B[1A\u001B[2K\u001B[1A\u001B[2K\u001B[1A\u001B[2K\u001B[1A\u001B[2K\u001B[1A\u001B[2K\u001B[1A\u001B[2K\u001B[1A\u001B[2K\u001B[1A\u001B[2K\u001B[1A\u001B[2K\u001B[1A\u001B[2K\u001B[1A\u001B[2K\u001B[1A\u001B[2K\u001B[1A\u001B[2K\u001B[1A\u001B[2K\u001B[1A\u001B[2K\u001B[1A\u001B[2K\u001B[1A\u001B[2K\u001B[1A\u001B[2K\u001B[1A\u001B[2K\u001B[1A\u001B[2K\u001B[1A\u001B[2K\u001B[1A\u001B[2K\u001B[1A\u001B[2K\u001B[1A\u001B[2K\u001B[1A\u001B[2K\u001B[1A\u001B[2K\u001B[1A\u001B[2K\u001B[1A\u001B[2K\u001B[1A\u001B[2K\u001B[1A\u001B[2K\u001B[1A\u001B[2K\u001B[1A\u001B[2K\u001B[1A\u001B[2K\u001B[1A\u001B[2K\u001B[1A\u001B[2K\u001B[1A\u001B[2K\u001B[1A\u001B[2K\u001B[1A\u001B[2K\u001B[1A\u001B[2K\u001B[1A\u001B[2K\u001B[1A\u001B[2K\u001B[1A\u001B[2K\u001B[1A\u001B[2K\u001B[1A\u001B[2K\u001B[1A\u001B[2K\u001B[1A\u001B[2K\u001B[1A\u001B[2K\u001B[1A\u001B[2K\u001B[1A\u001B[2K\u001B[1A\u001B[2K\u001B[1A\u001B[2K\u001B[1A\u001B[2K\u001B[1A\u001B[2K\u001B[1A\u001B[2K\u001B[1A\u001B[2K\u001B[1A\u001B[2K\u001B[1A\u001B[2K\u001B[1A\u001B[2K\u001B[1A\u001B[2K\u001B[1A\u001B[2K\u001B[1A\u001B[2K\u001B[1A\u001B[2K\u001B[1A\u001B[2K\u001B[1A\u001B[2K\u001B[1A\u001B[2K\u001B[1A\u001B[2K\u001B[1A\u001B[2K\u001B[1A\u001B[2K\u001B[1A\u001B[2K\u001B[1A\u001B[2K\u001B[1A\u001B[2K\u001B[1A\u001B[2K\u001B[1A\u001B[2K\u001B[1A\u001B[2K\u001B[1A\u001B[2K\u001B[1A\u001B[2K\u001B[1A\u001B[2K\u001B[1A\u001B[2K\u001B[1A\u001B[2K\u001B[1A\u001B[2K\u001B[1A\u001B[2K\u001B[1A\u001B[2K\u001B[1A\u001B[2K\u001B[1A\u001B[2K\u001B[1A\u001B[2K\u001B[1A\u001B[2K\u001B[1A\u001B[2K\u001B[1A\u001B[2K\u001B[1A\u001B[2K\u001B[1A\u001B[2K\u001B[1A\u001B[2K\u001B[1A\u001B[2K\u001B[1A\u001B[2K\u001B[1A\u001B[2KDigest: sha256:0c524d3abe2642c09c5852299bd79bf78ba0ee2ef040473324caab0826f64d44\r\n",
      "Status: Downloaded newer image for community.wave.seqera.io/library/fastqc:0.12.1--5cfd0f3cb6760c42\r\n",
      "922cfc0ff8c3c1ecef335db5d905579dec40d547fcecf3ecd3969b8727ac0d28\r\n"
     ]
    }
   ],
   "execution_count": 16
  },
  {
   "metadata": {
    "ExecuteTime": {
     "end_time": "2024-10-04T08:35:30.885953Z",
     "start_time": "2024-10-04T08:35:30.564959Z"
    }
   },
   "cell_type": "code",
   "source": "!docker ps -a",
   "outputs": [
    {
     "name": "stdout",
     "output_type": "stream",
     "text": [
      "/bin/bash: warning: setlocale: LC_ALL: cannot change locale (en_US.UTF-8)\r\n",
      "CONTAINER ID   IMAGE                                                              COMMAND                  CREATED         STATUS                    PORTS     NAMES\r\n",
      "922cfc0ff8c3   community.wave.seqera.io/library/fastqc:0.12.1--5cfd0f3cb6760c42   \"/usr/local/bin/_ent…\"   3 minutes ago   Created                             ecstatic_bartik\r\n",
      "0a005d86b72b   quay.io/biocontainers/trim-galore:0.6.7--hdfd78af_0                \"/usr/local/env-exec…\"   2 days ago      Exited (137) 2 days ago             nxf-wk0TJxRGXheirSoX5kelNjbQ\r\n",
      "68e212e12352   quay.io/biocontainers/python:3.9--1                                \"/usr/local/env-exec…\"   3 days ago      Exited (0) 3 days ago               nxf-mj8T5jSkBbftWpzbiyROgMZC\r\n",
      "071fd6a33431   quay.io/biocontainers/python:3.9--1                                \"/usr/local/env-exec…\"   3 days ago      Exited (0) 3 days ago               nxf-up0Hnsry2UyHx6wbxoVfm4pw\r\n"
     ]
    }
   ],
   "execution_count": 17
  },
  {
   "cell_type": "code",
   "metadata": {
    "ExecuteTime": {
     "end_time": "2024-10-04T10:12:24.391733Z",
     "start_time": "2024-10-04T08:59:13.235496Z"
    }
   },
   "source": [
    "# run the container and save the results to a new \"fastqc_results\" directory\n",
    "!docker container run -v /mnt/c/Users/julia/Documents/Uni/Master/Semester_2/CompWorkflows:/tmp community.wave.seqera.io/library/fastqc:0.12.1--5cfd0f3cb6760c42 fastqc /tmp/day_02/results/fastq/SRX19144486_SRR23195516_1.fastq.gz /tmp/day_02/results/fastq/SRX19144486_SRR23195516_2.fastq.gz /tmp/day_02/results/fastq/SRX19144488_SRR23195511_1.fastq.gz /tmp/day_02/results/fastq/SRX19144488_SRR23195511_2.fastq.gz --outdir=/tmp/day_04/fastqc_results"
   ],
   "outputs": [
    {
     "name": "stdout",
     "output_type": "stream",
     "text": [
      "/bin/bash: warning: setlocale: LC_ALL: cannot change locale (en_US.UTF-8)\r\n",
      "application/gzip\r\n",
      "application/gzip\r\n",
      "application/gzip\r\n",
      "application/gzip\r\n",
      "Started analysis of SRX19144486_SRR23195516_1.fastq.gz\r\n",
      "Approx 5% complete for SRX19144486_SRR23195516_1.fastq.gz\r\n",
      "Approx 10% complete for SRX19144486_SRR23195516_1.fastq.gz\r\n",
      "Approx 15% complete for SRX19144486_SRR23195516_1.fastq.gz\r\n",
      "Approx 20% complete for SRX19144486_SRR23195516_1.fastq.gz\r\n",
      "Approx 25% complete for SRX19144486_SRR23195516_1.fastq.gz\r\n",
      "Approx 30% complete for SRX19144486_SRR23195516_1.fastq.gz\r\n",
      "Approx 35% complete for SRX19144486_SRR23195516_1.fastq.gz\r\n",
      "Approx 40% complete for SRX19144486_SRR23195516_1.fastq.gz\r\n",
      "Approx 45% complete for SRX19144486_SRR23195516_1.fastq.gz\r\n",
      "Approx 50% complete for SRX19144486_SRR23195516_1.fastq.gz\r\n",
      "Approx 55% complete for SRX19144486_SRR23195516_1.fastq.gz\r\n",
      "Approx 60% complete for SRX19144486_SRR23195516_1.fastq.gz\r\n",
      "Approx 65% complete for SRX19144486_SRR23195516_1.fastq.gz\r\n",
      "Approx 70% complete for SRX19144486_SRR23195516_1.fastq.gz\r\n",
      "Approx 75% complete for SRX19144486_SRR23195516_1.fastq.gz\r\n",
      "Approx 80% complete for SRX19144486_SRR23195516_1.fastq.gz\r\n",
      "Approx 85% complete for SRX19144486_SRR23195516_1.fastq.gz\r\n",
      "Approx 90% complete for SRX19144486_SRR23195516_1.fastq.gz\r\n",
      "Approx 95% complete for SRX19144486_SRR23195516_1.fastq.gz\r\n",
      "Analysis complete for SRX19144486_SRR23195516_1.fastq.gz\r\n",
      "Started analysis of SRX19144486_SRR23195516_2.fastq.gz\r\n",
      "Approx 5% complete for SRX19144486_SRR23195516_2.fastq.gz\r\n",
      "Approx 10% complete for SRX19144486_SRR23195516_2.fastq.gz\r\n",
      "Approx 15% complete for SRX19144486_SRR23195516_2.fastq.gz\r\n",
      "Approx 20% complete for SRX19144486_SRR23195516_2.fastq.gz\r\n",
      "Approx 25% complete for SRX19144486_SRR23195516_2.fastq.gz\r\n",
      "Approx 30% complete for SRX19144486_SRR23195516_2.fastq.gz\r\n",
      "Approx 35% complete for SRX19144486_SRR23195516_2.fastq.gz\r\n",
      "Approx 40% complete for SRX19144486_SRR23195516_2.fastq.gz\r\n",
      "Approx 45% complete for SRX19144486_SRR23195516_2.fastq.gz\r\n",
      "Approx 50% complete for SRX19144486_SRR23195516_2.fastq.gz\r\n",
      "Approx 55% complete for SRX19144486_SRR23195516_2.fastq.gz\r\n",
      "Approx 60% complete for SRX19144486_SRR23195516_2.fastq.gz\r\n",
      "Approx 65% complete for SRX19144486_SRR23195516_2.fastq.gz\r\n",
      "Approx 70% complete for SRX19144486_SRR23195516_2.fastq.gz\r\n",
      "Approx 75% complete for SRX19144486_SRR23195516_2.fastq.gz\r\n",
      "Approx 80% complete for SRX19144486_SRR23195516_2.fastq.gz\r\n",
      "Approx 85% complete for SRX19144486_SRR23195516_2.fastq.gz\r\n",
      "Approx 90% complete for SRX19144486_SRR23195516_2.fastq.gz\r\n",
      "Approx 95% complete for SRX19144486_SRR23195516_2.fastq.gz\r\n",
      "Analysis complete for SRX19144486_SRR23195516_2.fastq.gz\r\n",
      "Started analysis of SRX19144488_SRR23195511_1.fastq.gz\r\n",
      "Approx 5% complete for SRX19144488_SRR23195511_1.fastq.gz\r\n",
      "Approx 10% complete for SRX19144488_SRR23195511_1.fastq.gz\r\n",
      "Approx 15% complete for SRX19144488_SRR23195511_1.fastq.gz\r\n",
      "Approx 20% complete for SRX19144488_SRR23195511_1.fastq.gz\r\n",
      "Approx 25% complete for SRX19144488_SRR23195511_1.fastq.gz\r\n",
      "Approx 30% complete for SRX19144488_SRR23195511_1.fastq.gz\r\n",
      "Approx 35% complete for SRX19144488_SRR23195511_1.fastq.gz\r\n",
      "Approx 40% complete for SRX19144488_SRR23195511_1.fastq.gz\r\n",
      "Approx 45% complete for SRX19144488_SRR23195511_1.fastq.gz\r\n",
      "Approx 50% complete for SRX19144488_SRR23195511_1.fastq.gz\r\n",
      "Approx 55% complete for SRX19144488_SRR23195511_1.fastq.gz\r\n",
      "Approx 60% complete for SRX19144488_SRR23195511_1.fastq.gz\r\n",
      "Approx 65% complete for SRX19144488_SRR23195511_1.fastq.gz\r\n",
      "Approx 70% complete for SRX19144488_SRR23195511_1.fastq.gz\r\n",
      "Approx 75% complete for SRX19144488_SRR23195511_1.fastq.gz\r\n",
      "Approx 80% complete for SRX19144488_SRR23195511_1.fastq.gz\r\n",
      "Approx 85% complete for SRX19144488_SRR23195511_1.fastq.gz\r\n",
      "Approx 90% complete for SRX19144488_SRR23195511_1.fastq.gz\r\n",
      "Approx 95% complete for SRX19144488_SRR23195511_1.fastq.gz\r\n",
      "Analysis complete for SRX19144488_SRR23195511_1.fastq.gz\r\n",
      "Started analysis of SRX19144488_SRR23195511_2.fastq.gz\r\n",
      "Approx 5% complete for SRX19144488_SRR23195511_2.fastq.gz\r\n",
      "Approx 10% complete for SRX19144488_SRR23195511_2.fastq.gz\r\n",
      "Approx 15% complete for SRX19144488_SRR23195511_2.fastq.gz\r\n",
      "Approx 20% complete for SRX19144488_SRR23195511_2.fastq.gz\r\n",
      "Approx 25% complete for SRX19144488_SRR23195511_2.fastq.gz\r\n",
      "Approx 30% complete for SRX19144488_SRR23195511_2.fastq.gz\r\n",
      "Approx 35% complete for SRX19144488_SRR23195511_2.fastq.gz\r\n",
      "Approx 40% complete for SRX19144488_SRR23195511_2.fastq.gz\r\n",
      "Approx 45% complete for SRX19144488_SRR23195511_2.fastq.gz\r\n",
      "Approx 50% complete for SRX19144488_SRR23195511_2.fastq.gz\r\n",
      "Approx 55% complete for SRX19144488_SRR23195511_2.fastq.gz\r\n",
      "Approx 60% complete for SRX19144488_SRR23195511_2.fastq.gz\r\n",
      "Approx 65% complete for SRX19144488_SRR23195511_2.fastq.gz\r\n",
      "Approx 70% complete for SRX19144488_SRR23195511_2.fastq.gz\r\n",
      "Approx 75% complete for SRX19144488_SRR23195511_2.fastq.gz\r\n",
      "Approx 80% complete for SRX19144488_SRR23195511_2.fastq.gz\r\n",
      "Approx 85% complete for SRX19144488_SRR23195511_2.fastq.gz\r\n",
      "Approx 90% complete for SRX19144488_SRR23195511_2.fastq.gz\r\n",
      "Approx 95% complete for SRX19144488_SRR23195511_2.fastq.gz\r\n",
      "Analysis complete for SRX19144488_SRR23195511_2.fastq.gz\r\n"
     ]
    }
   ],
   "execution_count": 3
  },
  {
   "metadata": {
    "ExecuteTime": {
     "end_time": "2024-10-04T12:03:41.060247Z",
     "start_time": "2024-10-04T12:03:39.331083Z"
    }
   },
   "cell_type": "code",
   "source": "!docker container run community.wave.seqera.io/library/fastqc:0.12.1--5cfd0f3cb6760c42 fastqc --version",
   "outputs": [
    {
     "name": "stdout",
     "output_type": "stream",
     "text": [
      "FastQC v0.12.1\r\n"
     ]
    }
   ],
   "execution_count": 40
  },
  {
   "cell_type": "markdown",
   "metadata": {},
   "source": [
    "### Now that you know how to use a docker container, which approach between running everything manually and using docker was easier and which approach will be easier in the future?"
   ]
  },
  {
   "metadata": {},
   "cell_type": "markdown",
   "source": "The container approach was easier than installing the application locally. It will become even easier to use in the future because running an application with docker always requires the same steps."
  },
  {
   "cell_type": "markdown",
   "metadata": {},
   "source": [
    "### What would you say, which approach is more reproducible?"
   ]
  },
  {
   "metadata": {},
   "cell_type": "markdown",
   "source": "Using the docker container is more reproducible."
  },
  {
   "cell_type": "markdown",
   "metadata": {},
   "source": [
    "### Compare the file to last weeks fastqc results, are they identical?\n",
    "### Is the fastqc version identical?"
   ]
  },
  {
   "metadata": {},
   "cell_type": "markdown",
   "source": "The results of the local run of fastqc (FastQC v0.12.1) and the results of the docker container (FastQC v0.12.1) run are identical."
  },
  {
   "cell_type": "markdown",
   "metadata": {},
   "source": [
    "## Dockerfiles\n",
    "\n",
    "We now used Docker containers and images directly to boost our research. \n",
    "\n",
    "Let's create our own toy Dockerfile including the \"cowsay\" tool (https://en.wikipedia.org/wiki/Cowsay)\n",
    "\n",
    "Hints:\n",
    "1. Docker is Linux, so you need to know the apt-get command to install \"cowsay\""
   ]
  },
  {
   "cell_type": "code",
   "execution_count": null,
   "metadata": {},
   "outputs": [],
   "source": [
    "# open the file \"my_dockerfile\" in a text editor"
   ]
  },
  {
   "cell_type": "markdown",
   "metadata": {},
   "source": [
    "### Explain the RUN and ENV lines you added to the file"
   ]
  },
  {
   "cell_type": "markdown",
   "metadata": {},
   "source": [
    "- The `RUN` instruction `RUN [OPTIONS] <command> ...` will execute any commands to create a new layer on top of the current image.\n",
    "It begins by updating the package list to ensure that the most recent versions of the packages will be installed. Next, it installs curl and cowsay, with the `-y` option used to automatically confirm installation prompts.\n",
    "- The `ENV` instruction `ENV <key>=<value> ...` sets the environment variable `<key>` to the value `<value>`. Cowsay will be installed in the `/usr/games` directory, which is not part of the default `PATH`. Therefore, without adding this directory to the `PATH`, we would need to specify the full path to run it. \n",
    "\n",
    "[[Source]](https://docs.docker.com/reference/dockerfile/)"
   ]
  },
  {
   "cell_type": "code",
   "metadata": {
    "ExecuteTime": {
     "end_time": "2024-10-04T11:16:11.963438Z",
     "start_time": "2024-10-04T11:16:10.747353Z"
    }
   },
   "source": [
    "# build the docker image\n",
    "!docker build -f ./my_dockerfile -t julia938/cowsay ."
   ],
   "execution_count": 8,
   "outputs": [
    {
     "name": "stdout",
     "output_type": "stream",
     "text": [
      "/bin/bash: warning: setlocale: LC_ALL: cannot change locale (en_US.UTF-8)\r\n",
      "\u001B[1A\u001B[1B\u001B[0G\u001B[?25l[+] Building 0.0s (0/0)  docker:default\r\n",
      "\u001B[?25h\u001B[1A\u001B[0G\u001B[?25l[+] Building 0.0s (0/1)                                          docker:default\r\n",
      " => [internal] load build definition from my_dockerfile                    0.0s\r\n",
      "\u001B[?25h\u001B[1A\u001B[1A\u001B[0G\u001B[?25l[+] Building 0.2s (1/2)                                          docker:default\r\n",
      "\u001B[34m => [internal] load build definition from my_dockerfile                    0.0s\r\n",
      "\u001B[0m\u001B[34m => => transferring dockerfile: 853B                                       0.0s\r\n",
      "\u001B[0m => [internal] load metadata for docker.io/library/debian:bullseye-slim    0.1s\r\n",
      "\u001B[?25h\u001B[1A\u001B[1A\u001B[1A\u001B[1A\u001B[0G\u001B[?25l[+] Building 0.3s (1/2)                                          docker:default\r\n",
      "\u001B[34m => [internal] load build definition from my_dockerfile                    0.0s\r\n",
      "\u001B[0m\u001B[34m => => transferring dockerfile: 853B                                       0.0s\r\n",
      "\u001B[0m => [internal] load metadata for docker.io/library/debian:bullseye-slim    0.3s\r\n",
      "\u001B[?25h\u001B[1A\u001B[1A\u001B[1A\u001B[1A\u001B[0G\u001B[?25l[+] Building 0.5s (1/2)                                          docker:default\r\n",
      "\u001B[34m => [internal] load build definition from my_dockerfile                    0.0s\r\n",
      "\u001B[0m\u001B[34m => => transferring dockerfile: 853B                                       0.0s\r\n",
      "\u001B[0m => [internal] load metadata for docker.io/library/debian:bullseye-slim    0.4s\r\n",
      "\u001B[?25h\u001B[1A\u001B[1A\u001B[1A\u001B[1A\u001B[0G\u001B[?25l[+] Building 0.6s (2/2)                                          docker:default\r\n",
      "\u001B[34m => [internal] load build definition from my_dockerfile                    0.0s\r\n",
      "\u001B[0m\u001B[34m => => transferring dockerfile: 853B                                       0.0s\r\n",
      "\u001B[0m\u001B[34m => [internal] load metadata for docker.io/library/debian:bullseye-slim    0.6s\r\n",
      "\u001B[0m\u001B[?25h\u001B[1A\u001B[1A\u001B[1A\u001B[1A\u001B[0G\u001B[?25l[+] Building 0.7s (8/8) FINISHED                                 docker:default\r\n",
      "\u001B[34m => [internal] load build definition from my_dockerfile                    0.0s\r\n",
      "\u001B[0m\u001B[34m => => transferring dockerfile: 853B                                       0.0s\r\n",
      "\u001B[0m\u001B[34m => [internal] load metadata for docker.io/library/debian:bullseye-slim    0.6s\r\n",
      "\u001B[0m\u001B[34m => [internal] load .dockerignore                                          0.0s\r\n",
      "\u001B[0m\u001B[34m => => transferring context: 2B                                            0.0s\r\n",
      "\u001B[0m\u001B[34m => [1/4] FROM docker.io/library/debian:bullseye-slim@sha256:3f9e53602537  0.0s\r\n",
      "\u001B[0m\u001B[34m => CACHED [2/4] RUN apt-get update                                        0.0s\r\n",
      "\u001B[0m\u001B[34m => CACHED [3/4] RUN apt-get install -y curl                               0.0s\r\n",
      "\u001B[0m\u001B[34m => CACHED [4/4] RUN apt-get install -y cowsay                             0.0s\r\n",
      "\u001B[0m\u001B[34m => exporting to image                                                     0.0s\r\n",
      "\u001B[0m\u001B[34m => => exporting layers                                                    0.0s\r\n",
      "\u001B[0m\u001B[34m => => writing image sha256:db22ac292928b612aea95954a77e482cd06b060ead8d3  0.0s\r\n",
      "\u001B[0m\u001B[34m => => naming to docker.io/julia938/cowsay                                 0.0s\r\n",
      "\u001B[0m\u001B[?25h"
     ]
    }
   ]
  },
  {
   "cell_type": "code",
   "metadata": {
    "ExecuteTime": {
     "end_time": "2024-10-04T11:54:24.643747Z",
     "start_time": "2024-10-04T11:54:24.488790Z"
    }
   },
   "source": [
    "# make sure that the image has been built\n",
    "!docker image ls"
   ],
   "outputs": [
    {
     "name": "stdout",
     "output_type": "stream",
     "text": [
      "REPOSITORY                                                 TAG                        IMAGE ID       CREATED          SIZE\r\n",
      "julia938/salmon                                            latest                     7bbcf36ae2dd   10 minutes ago   596MB\r\n",
      "julia938/cowsay                                            latest                     db22ac292928   41 minutes ago   153MB\r\n",
      "julia938/ubuntu_sftp                                       latest                     397bd1ef1fa9   4 weeks ago      95MB\r\n",
      "ubuntu_sftp                                                latest                     397bd1ef1fa9   4 weeks ago      95MB\r\n",
      "bash                                                       latest                     bd4206c5bc03   2 months ago     14.4MB\r\n",
      "python                                                     latest                     ab363ab21d7b   3 months ago     1.02GB\r\n",
      "ubuntu                                                     latest                     17c0145030df   4 months ago     76.2MB\r\n",
      "community.wave.seqera.io/library/fastqc                    0.12.1--5cfd0f3cb6760c42   1df9a8700d59   4 months ago     908MB\r\n",
      "quay.io/biocontainers/thermorawfileparser                  1.4.4--ha8f3691_0          c9a09eafa3fd   4 months ago     641MB\r\n",
      "quay.io/biocontainers/r-shinyngs                           1.8.8--r43hdfd78af_0       3ae022b36dce   5 months ago     1.34GB\r\n",
      "quay.io/biocontainers/atlas-gene-annotation-manipulation   1.1.1--hdfd78af_0          db9ec43ce403   5 months ago     1.25GB\r\n",
      "combinelab/salmon                                          latest                     3291c6f6c42d   6 months ago     101MB\r\n",
      "biocontainers/openms                                       2.2.0_cv6                  7008341a90c0   7 months ago     1.32GB\r\n",
      "quay.io/nf-core/ubuntu                                     20.04                      88bd68917189   17 months ago    72.8MB\r\n",
      "quay.io/biocontainers/pandas                               1.5.2                      f82af9c4f9b8   19 months ago    342MB\r\n",
      "quay.io/biocontainers/gsea                                 4.3.2--hdfd78af_0          6feabbb8b995   22 months ago    546MB\r\n",
      "quay.io/biocontainers/r-base                               4.2.1                      8932c551c68b   23 months ago    825MB\r\n",
      "quay.io/biocontainers/bioconductor-deseq2                  1.34.0--r41hc247a5b_3      375cfc132ace   24 months ago    1.14GB\r\n",
      "quay.io/biocontainers/p7zip                                16.02                      64926fee1967   2 years ago      32.5MB\r\n",
      "mfreitas/tdf2mzml                                          latest                     2ee676470f1d   2 years ago      754MB\r\n",
      "quay.io/biocontainers/trim-galore                          0.6.7--hdfd78af_0          9786daa22bb1   3 years ago      714MB\r\n",
      "quay.io/biocontainers/python                               3.9--1                     34c2b9e3810c   3 years ago      191MB\r\n",
      "quay.io/biocontainers/gawk                                 5.1.0                      1f25a9f620a3   4 years ago      38.6MB\r\n",
      "quay.io/biocontainers/wget                                 1.20.1                     ec9602293ac3   5 years ago      86.3MB\r\n",
      "quay.io/biocontainers/thermorawfileparser                  0.0.2018.09.07--0          de9bf8a24cab   6 years ago      506MB\r\n"
     ]
    }
   ],
   "execution_count": 39
  },
  {
   "cell_type": "code",
   "metadata": {
    "ExecuteTime": {
     "end_time": "2024-10-04T11:47:17.920600Z",
     "start_time": "2024-10-04T11:47:17.130103Z"
    }
   },
   "source": [
    "# run the docker file \n",
    "!docker run julia938/cowsay cowsay Moo"
   ],
   "outputs": [
    {
     "name": "stdout",
     "output_type": "stream",
     "text": [
      " _____\r\n",
      "< Moo >\r\n",
      " -----\r\n",
      "        \\   ^__^\r\n",
      "         \\  (oo)\\_______\r\n",
      "            (__)\\       )\\/\\\r\n",
      "                ||----w |\r\n",
      "                ||     ||\r\n"
     ]
    }
   ],
   "execution_count": 33
  },
  {
   "cell_type": "markdown",
   "metadata": {},
   "source": [
    "## Let's do some bioinformatics with the docker file and create a new docker file that holds the salmon tool used in rnaseq\n",
    "\n",
    "To do so, use \"curl\" in your new dockerfile to get salmon from https://github.com/COMBINE-lab/salmon/releases/download/v1.5.2/salmon-1.5.2_linux_x86_64.tar.gz"
   ]
  },
  {
   "cell_type": "code",
   "metadata": {
    "ExecuteTime": {
     "end_time": "2024-10-04T11:47:07.713942Z",
     "start_time": "2024-10-04T11:47:06.408184Z"
    }
   },
   "source": [
    "# use the file \"salmon_docker\" in this directory to build a new docker image\n",
    "!docker build -f ./salmon_docker -t julia938/salmon ."
   ],
   "outputs": [
    {
     "name": "stdout",
     "output_type": "stream",
     "text": [
      "\u001B[1A\u001B[1B\u001B[0G\u001B[?25l[+] Building 0.0s (0/0)  docker:default\r\n",
      "\u001B[?25h\u001B[1A\u001B[0G\u001B[?25l[+] Building 0.0s (0/0)  docker:default\r\n",
      "\u001B[?25h\u001B[1A\u001B[0G\u001B[?25l[+] Building 0.0s (0/1)                                          docker:default\r\n",
      "\u001B[?25h\u001B[1A\u001B[0G\u001B[?25l[+] Building 0.2s (1/2)                                          docker:default\r\n",
      "\u001B[34m => [internal] load build definition from salmon_docker                    0.1s\r\n",
      "\u001B[0m\u001B[34m => => transferring dockerfile: 610B                                       0.0s\r\n",
      "\u001B[0m => [internal] load metadata for docker.io/library/debian:bullseye-slim    0.1s\r\n",
      "\u001B[?25h\u001B[1A\u001B[1A\u001B[1A\u001B[1A\u001B[0G\u001B[?25l[+] Building 0.4s (1/2)                                          docker:default\r\n",
      "\u001B[34m => [internal] load build definition from salmon_docker                    0.1s\r\n",
      "\u001B[0m\u001B[34m => => transferring dockerfile: 610B                                       0.0s\r\n",
      "\u001B[0m => [internal] load metadata for docker.io/library/debian:bullseye-slim    0.3s\r\n",
      "\u001B[?25h\u001B[1A\u001B[1A\u001B[1A\u001B[1A\u001B[0G\u001B[?25l[+] Building 0.5s (1/2)                                          docker:default\r\n",
      "\u001B[34m => [internal] load build definition from salmon_docker                    0.1s\r\n",
      "\u001B[0m\u001B[34m => => transferring dockerfile: 610B                                       0.0s\r\n",
      "\u001B[0m => [internal] load metadata for docker.io/library/debian:bullseye-slim    0.4s\r\n",
      "\u001B[?25h\u001B[1A\u001B[1A\u001B[1A\u001B[1A\u001B[0G\u001B[?25l[+] Building 0.6s (2/2)                                          docker:default\r\n",
      "\u001B[34m => [internal] load build definition from salmon_docker                    0.1s\r\n",
      "\u001B[0m\u001B[34m => => transferring dockerfile: 610B                                       0.0s\r\n",
      "\u001B[0m\u001B[34m => [internal] load metadata for docker.io/library/debian:bullseye-slim    0.5s\r\n",
      "\u001B[0m\u001B[?25h\u001B[1A\u001B[1A\u001B[1A\u001B[1A\u001B[0G\u001B[?25l[+] Building 0.7s (11/11) FINISHED                               docker:default\r\n",
      "\u001B[34m => [internal] load build definition from salmon_docker                    0.1s\r\n",
      "\u001B[0m\u001B[34m => => transferring dockerfile: 610B                                       0.0s\r\n",
      "\u001B[0m\u001B[34m => [internal] load metadata for docker.io/library/debian:bullseye-slim    0.5s\r\n",
      "\u001B[0m\u001B[34m => [internal] load .dockerignore                                          0.0s\r\n",
      "\u001B[0m\u001B[34m => => transferring context: 2B                                            0.0s\r\n",
      "\u001B[0m\u001B[34m => [1/7] FROM docker.io/library/debian:bullseye-slim@sha256:3f9e53602537  0.0s\r\n",
      "\u001B[0m\u001B[34m => CACHED [2/7] RUN apt-get update                                        0.0s\r\n",
      "\u001B[0m\u001B[34m => CACHED [3/7] RUN apt-get install -y curl                               0.0s\r\n",
      "\u001B[0m\u001B[34m => CACHED [4/7] RUN curl -LO https://github.com/COMBINE-lab/salmon/relea  0.0s\r\n",
      "\u001B[0m\u001B[34m => CACHED [5/7] RUN tar -xzf salmon-1.5.2_linux_x86_64.tar.gz             0.0s\r\n",
      "\u001B[0m\u001B[34m => CACHED [6/7] RUN mv salmon-1.5.2_linux_x86_64/bin/* /usr/bin/          0.0s\r\n",
      "\u001B[0m\u001B[34m => CACHED [7/7] RUN mv salmon-1.5.2_linux_x86_64/lib/* /usr/lib/          0.0s\r\n",
      "\u001B[0m\u001B[34m => exporting to image                                                     0.0s\r\n",
      "\u001B[0m\u001B[34m => => exporting layers                                                    0.0s\r\n",
      "\u001B[0m\u001B[34m => => writing image sha256:7bbcf36ae2ddd43f456ef3412131e827a2a69497bf747  0.0s\r\n",
      "\u001B[0m\u001B[34m => => naming to docker.io/julia938/salmon                                 0.0s\r\n",
      "\u001B[0m\u001B[?25h"
     ]
    }
   ],
   "execution_count": 31
  },
  {
   "cell_type": "code",
   "metadata": {
    "ExecuteTime": {
     "end_time": "2024-10-04T11:47:11.652408Z",
     "start_time": "2024-10-04T11:47:10.912876Z"
    }
   },
   "source": [
    "# run the docker image to give out the version of salmon\n",
    "!docker run julia938/salmon salmon --version"
   ],
   "outputs": [
    {
     "name": "stdout",
     "output_type": "stream",
     "text": [
      "salmon 1.5.2\r\n"
     ]
    }
   ],
   "execution_count": 32
  },
  {
   "cell_type": "markdown",
   "metadata": {},
   "source": [
    "## Do you think bioinformaticians have to create a docker image every time they want to run a tool?\n",
    "\n",
    "Find the salmon docker image online and run it on your computer."
   ]
  },
  {
   "metadata": {},
   "cell_type": "markdown",
   "source": "In bioinformatics, there are many Docker images available for various use cases. Bioinformaticians do not need to create Docker images from scratch each time. Instead, they can retrieve pre-built images from repositories like Seqera."
  },
  {
   "metadata": {
    "ExecuteTime": {
     "end_time": "2024-10-04T11:50:49.627615Z",
     "start_time": "2024-10-04T11:50:40.709199Z"
    }
   },
   "cell_type": "code",
   "source": "!docker pull combinelab/salmon",
   "outputs": [
    {
     "name": "stdout",
     "output_type": "stream",
     "text": [
      "Using default tag: latest\r\n",
      "latest: Pulling from combinelab/salmon\r\n",
      "\r\n",
      "\u001B[1B7f213c76: Pulling fs layer \r\n",
      "\u001B[1B1ed9ab84: Pulling fs layer \r\n",
      "\u001B[1B0bdd40c3: Pulling fs layer \r\n",
      "\u001B[1B893c1bc1: Pulling fs layer \r\n",
      "\u001B[1BDigest: sha256:cefd8bb0b2ed9b07f22b5f0fc317ddda540e5b0dc00810d1ff0d92fee5d80370[5A\u001B[2K\u001B[3A\u001B[2K\u001B[3A\u001B[2K\u001B[5A\u001B[2K\u001B[3A\u001B[2K\u001B[5A\u001B[2K\u001B[2A\u001B[2K\u001B[5A\u001B[2K\u001B[3A\u001B[2K\u001B[5A\u001B[2K\u001B[3A\u001B[2K\u001B[5A\u001B[2K\u001B[3A\u001B[2K\u001B[5A\u001B[2K\u001B[3A\u001B[2K\u001B[5A\u001B[2K\u001B[1A\u001B[2K\u001B[3A\u001B[2K\u001B[3A\u001B[2K\u001B[5A\u001B[2K\u001B[3A\u001B[2K\u001B[5A\u001B[2K\u001B[3A\u001B[2K\u001B[3A\u001B[2K\u001B[5A\u001B[2K\u001B[5A\u001B[2K\u001B[5A\u001B[2K\u001B[5A\u001B[2K\u001B[5A\u001B[2K\u001B[3A\u001B[2K\u001B[5A\u001B[2K\u001B[3A\u001B[2K\u001B[5A\u001B[2K\u001B[5A\u001B[2K\u001B[5A\u001B[2K\u001B[5A\u001B[2K\u001B[5A\u001B[2K\u001B[5A\u001B[2K\u001B[5A\u001B[2K\u001B[5A\u001B[2K\u001B[5A\u001B[2K\u001B[5A\u001B[2K\u001B[5A\u001B[2K\u001B[5A\u001B[2K\u001B[5A\u001B[2K\u001B[5A\u001B[2K\u001B[5A\u001B[2K\u001B[5A\u001B[2K\u001B[5A\u001B[2K\u001B[5A\u001B[2K\u001B[5A\u001B[2K\u001B[5A\u001B[2K\u001B[5A\u001B[2K\u001B[5A\u001B[2K\u001B[5A\u001B[2K\u001B[5A\u001B[2K\u001B[5A\u001B[2K\u001B[5A\u001B[2K\u001B[5A\u001B[2K\u001B[4A\u001B[2K\u001B[3A\u001B[2K\u001B[3A\u001B[2K\u001B[3A\u001B[2K\u001B[2A\u001B[2K\r\n",
      "Status: Downloaded newer image for combinelab/salmon:latest\r\n",
      "docker.io/combinelab/salmon:latest\r\n"
     ]
    }
   ],
   "execution_count": 36
  },
  {
   "metadata": {
    "ExecuteTime": {
     "end_time": "2024-10-04T11:53:49.471318Z",
     "start_time": "2024-10-04T11:53:48.599279Z"
    }
   },
   "cell_type": "code",
   "source": "!docker run combinelab/salmon salmon --version",
   "outputs": [
    {
     "name": "stdout",
     "output_type": "stream",
     "text": [
      "salmon 1.10.3\r\n"
     ]
    }
   ],
   "execution_count": 37
  },
  {
   "metadata": {},
   "cell_type": "markdown",
   "source": "What is https://biocontainers.pro/ ?"
  },
  {
   "metadata": {},
   "cell_type": "markdown",
   "source": "BioContainers is a community-driven project that offers the infrastructure and guidelines for creating, managing, and distributing bioinformatics packages (e.g., Conda) and containers (e.g., Docker, Singularity). It is built on widely used frameworks such as Conda, Docker, and Singularity. [[Source]](https://biocontainers-edu.readthedocs.io/en/latest/what_is_biocontainers.html)."
  }
 ],
 "metadata": {
  "kernelspec": {
   "display_name": "work",
   "language": "python",
   "name": "python3"
  },
  "language_info": {
   "codemirror_mode": {
    "name": "ipython",
    "version": 3
   },
   "file_extension": ".py",
   "mimetype": "text/x-python",
   "name": "python",
   "nbconvert_exporter": "python",
   "pygments_lexer": "ipython3",
   "version": "3.10.13"
  }
 },
 "nbformat": 4,
 "nbformat_minor": 2
}
