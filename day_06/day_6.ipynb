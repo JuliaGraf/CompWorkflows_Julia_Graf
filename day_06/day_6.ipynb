{
 "cells": [
  {
   "cell_type": "markdown",
   "metadata": {},
   "source": [
    "# Day 6 - Nextflow Basics: Introduction to channels and operators"
   ]
  },
  {
   "cell_type": "markdown",
   "metadata": {},
   "source": [
    "Today, we will begin exploring Nextflow, the programming language that powers the advanced nf-core pipelines you worked with last week. Your task is to dive into the core concepts and syntax of Nextflow, understanding how this language enables the development of scalable and reproducible workflows.\n",
    "\n",
    "Nextflow works quite differently from traditional programming languages like Python or Java that you may already be familiar with. To get started, it is essential to understand the foundational concepts that set Nextflow apart."
   ]
  },
  {
   "cell_type": "markdown",
   "metadata": {},
   "source": [
    "### 1. Describe the concept of Workflows, Processes and Channels we deal with in Nextflow"
   ]
  },
  {
   "cell_type": "markdown",
   "metadata": {},
   "source": [
    "Workflows: A workflow is the entirety of all processes that are connected via channels.\n",
    "\n",
    "Processes: A process consists of input, output and script. The script block defines the script executed by the process.\n",
    "\n",
    "Channels: A channel is a datastructure that is used to connect processes. A channel can either be a value channel (which can be assigned **only one value**) or a queue channel (a non-blocking unidirectional FIFO queue connecting a producer process to a consumer process) [[Source]](https://www.nextflow.io/docs/latest/channel.html)."
   ]
  },
  {
   "cell_type": "markdown",
   "metadata": {},
   "source": [
    "## Introduction to channels\n",
    "\n",
    "Please refer to the file  $\\texttt{channels\\_intro.nf}$ for the next exercises. Then run the code with the respective flag here below. "
   ]
  },
  {
   "cell_type": "code",
   "metadata": {
    "ExecuteTime": {
     "end_time": "2024-10-07T08:02:23.731154Z",
     "start_time": "2024-10-07T08:02:17.570455Z"
    }
   },
   "source": [
    "# Task 1 - Create a channel that lists the numbers from 1 to 10\n",
    "!nextflow run channels_intro.nf --step 1"
   ],
   "outputs": [
    {
     "name": "stdout",
     "output_type": "stream",
     "text": [
      "\u001B[33mNextflow 24.04.4 is available - Please consider updating your version to it\u001B[m\r\n",
      "N E X T F L O W  ~  version 23.10.1\r\n",
      "Launching `channels_intro.nf` [stupefied_hugle] DSL2 - revision: f89a035372\r\n",
      "1\r\n",
      "2\r\n",
      "3\r\n",
      "4\r\n",
      "5\r\n",
      "6\r\n",
      "7\r\n",
      "8\r\n",
      "9\r\n",
      "10\r\n"
     ]
    }
   ],
   "execution_count": 1
  },
  {
   "cell_type": "code",
   "metadata": {
    "ExecuteTime": {
     "end_time": "2024-10-07T08:07:23.997983Z",
     "start_time": "2024-10-07T08:07:20.452571Z"
    }
   },
   "source": [
    "# Task 2 - Create a channel that gives out the entire alphabet\n",
    "!nextflow run channels_intro.nf --step 2"
   ],
   "outputs": [
    {
     "name": "stdout",
     "output_type": "stream",
     "text": [
      "\u001B[33mNextflow 24.04.4 is available - Please consider updating your version to it\u001B[m\r\n",
      "N E X T F L O W  ~  version 23.10.1\r\n",
      "Launching `channels_intro.nf` [dreamy_brown] DSL2 - revision: 845c40b0d8\r\n",
      "a\r\n",
      "b\r\n",
      "c\r\n",
      "d\r\n",
      "e\r\n",
      "f\r\n",
      "g\r\n",
      "h\r\n",
      "i\r\n",
      "j\r\n",
      "k\r\n",
      "l\r\n",
      "m\r\n",
      "n\r\n",
      "o\r\n",
      "p\r\n",
      "q\r\n",
      "r\r\n",
      "s\r\n",
      "t\r\n",
      "u\r\n",
      "v\r\n",
      "w\r\n",
      "x\r\n",
      "y\r\n",
      "z\r\n"
     ]
    }
   ],
   "execution_count": 3
  },
  {
   "cell_type": "code",
   "metadata": {
    "ExecuteTime": {
     "end_time": "2024-10-07T08:09:06.534612Z",
     "start_time": "2024-10-07T08:09:03.308088Z"
    }
   },
   "source": [
    "# Task 3 - Create a channel that includes all files in the \"files_dir\" directory\n",
    "!nextflow run channels_intro.nf --step 3"
   ],
   "outputs": [
    {
     "name": "stdout",
     "output_type": "stream",
     "text": [
      "\u001B[33mNextflow 24.04.4 is available - Please consider updating your version to it\u001B[m\r\n",
      "N E X T F L O W  ~  version 23.10.1\r\n",
      "Launching `channels_intro.nf` [goofy_volhard] DSL2 - revision: 74a4265145\r\n",
      "/mnt/c/Users/julia/Documents/Uni/Master/Semester_2/CompWorkflows/day_06/files_dir/fastq.fq\r\n",
      "/mnt/c/Users/julia/Documents/Uni/Master/Semester_2/CompWorkflows/day_06/files_dir/fastq1_1.fq\r\n",
      "/mnt/c/Users/julia/Documents/Uni/Master/Semester_2/CompWorkflows/day_06/files_dir/fastq1_2.fq\r\n",
      "/mnt/c/Users/julia/Documents/Uni/Master/Semester_2/CompWorkflows/day_06/files_dir/fastq2_1.fq\r\n",
      "/mnt/c/Users/julia/Documents/Uni/Master/Semester_2/CompWorkflows/day_06/files_dir/fastq2_2.fq\r\n",
      "/mnt/c/Users/julia/Documents/Uni/Master/Semester_2/CompWorkflows/day_06/files_dir/fastq3_1.fq\r\n",
      "/mnt/c/Users/julia/Documents/Uni/Master/Semester_2/CompWorkflows/day_06/files_dir/fastq3_2.fq\r\n",
      "/mnt/c/Users/julia/Documents/Uni/Master/Semester_2/CompWorkflows/day_06/files_dir/fastq4_1.fq\r\n",
      "/mnt/c/Users/julia/Documents/Uni/Master/Semester_2/CompWorkflows/day_06/files_dir/fastq4_2.fq\r\n",
      "/mnt/c/Users/julia/Documents/Uni/Master/Semester_2/CompWorkflows/day_06/files_dir/fastq5_1.fq\r\n",
      "/mnt/c/Users/julia/Documents/Uni/Master/Semester_2/CompWorkflows/day_06/files_dir/fastq5_2.fq\r\n",
      "/mnt/c/Users/julia/Documents/Uni/Master/Semester_2/CompWorkflows/day_06/files_dir/fastq_1.fq\r\n",
      "/mnt/c/Users/julia/Documents/Uni/Master/Semester_2/CompWorkflows/day_06/files_dir/fastq_2.fq\r\n",
      "/mnt/c/Users/julia/Documents/Uni/Master/Semester_2/CompWorkflows/day_06/files_dir/file_1.txt\r\n",
      "/mnt/c/Users/julia/Documents/Uni/Master/Semester_2/CompWorkflows/day_06/files_dir/file_2.txt\r\n",
      "/mnt/c/Users/julia/Documents/Uni/Master/Semester_2/CompWorkflows/day_06/files_dir/file_3.txt\r\n",
      "/mnt/c/Users/julia/Documents/Uni/Master/Semester_2/CompWorkflows/day_06/files_dir/file_4.txt\r\n",
      "/mnt/c/Users/julia/Documents/Uni/Master/Semester_2/CompWorkflows/day_06/files_dir/file_5.txt\r\n",
      "/mnt/c/Users/julia/Documents/Uni/Master/Semester_2/CompWorkflows/day_06/files_dir/SRR.fq\r\n",
      "/mnt/c/Users/julia/Documents/Uni/Master/Semester_2/CompWorkflows/day_06/files_dir/SRR1_1.fq\r\n",
      "/mnt/c/Users/julia/Documents/Uni/Master/Semester_2/CompWorkflows/day_06/files_dir/SRR1_2.fq\r\n",
      "/mnt/c/Users/julia/Documents/Uni/Master/Semester_2/CompWorkflows/day_06/files_dir/SRR2_1.fq\r\n",
      "/mnt/c/Users/julia/Documents/Uni/Master/Semester_2/CompWorkflows/day_06/files_dir/SRR2_2.fq\r\n",
      "/mnt/c/Users/julia/Documents/Uni/Master/Semester_2/CompWorkflows/day_06/files_dir/SRR3_1.fq\r\n",
      "/mnt/c/Users/julia/Documents/Uni/Master/Semester_2/CompWorkflows/day_06/files_dir/SRR3_2.fq\r\n",
      "/mnt/c/Users/julia/Documents/Uni/Master/Semester_2/CompWorkflows/day_06/files_dir/SRR4_1.fq\r\n",
      "/mnt/c/Users/julia/Documents/Uni/Master/Semester_2/CompWorkflows/day_06/files_dir/SRR4_2.fq\r\n",
      "/mnt/c/Users/julia/Documents/Uni/Master/Semester_2/CompWorkflows/day_06/files_dir/SRR5_1.fq\r\n",
      "/mnt/c/Users/julia/Documents/Uni/Master/Semester_2/CompWorkflows/day_06/files_dir/SRR5_2.fq\r\n"
     ]
    }
   ],
   "execution_count": 5
  },
  {
   "cell_type": "code",
   "metadata": {
    "ExecuteTime": {
     "end_time": "2024-10-07T08:10:50.348984Z",
     "start_time": "2024-10-07T08:10:47.017532Z"
    }
   },
   "source": [
    "# Task 4 - Create a channel that includes all TXT files in the \"files_dir\" directory\n",
    "!nextflow run channels_intro.nf --step 4"
   ],
   "outputs": [
    {
     "name": "stdout",
     "output_type": "stream",
     "text": [
      "\u001B[33mNextflow 24.04.4 is available - Please consider updating your version to it\u001B[m\r\n",
      "N E X T F L O W  ~  version 23.10.1\r\n",
      "Launching `channels_intro.nf` [reverent_rosalind] DSL2 - revision: d1e0aaf38d\r\n",
      "/mnt/c/Users/julia/Documents/Uni/Master/Semester_2/CompWorkflows/day_06/files_dir/file_1.txt\r\n",
      "/mnt/c/Users/julia/Documents/Uni/Master/Semester_2/CompWorkflows/day_06/files_dir/file_2.txt\r\n",
      "/mnt/c/Users/julia/Documents/Uni/Master/Semester_2/CompWorkflows/day_06/files_dir/file_3.txt\r\n",
      "/mnt/c/Users/julia/Documents/Uni/Master/Semester_2/CompWorkflows/day_06/files_dir/file_4.txt\r\n",
      "/mnt/c/Users/julia/Documents/Uni/Master/Semester_2/CompWorkflows/day_06/files_dir/file_5.txt\r\n"
     ]
    }
   ],
   "execution_count": 7
  },
  {
   "cell_type": "code",
   "metadata": {
    "ExecuteTime": {
     "end_time": "2024-10-07T08:11:57.209176Z",
     "start_time": "2024-10-07T08:11:54.143934Z"
    }
   },
   "source": [
    "# Task 5 - Create a channel that includes the files \"fastq_1.fq\" and \"fastq_2.fq\" in the \"files_dir\" directory\n",
    "!nextflow run channels_intro.nf --step 5"
   ],
   "outputs": [
    {
     "name": "stdout",
     "output_type": "stream",
     "text": [
      "\u001B[33mNextflow 24.04.4 is available - Please consider updating your version to it\u001B[m\r\n",
      "N E X T F L O W  ~  version 23.10.1\r\n",
      "Launching `channels_intro.nf` [grave_brenner] DSL2 - revision: 1f4d515daa\r\n",
      "/mnt/c/Users/julia/Documents/Uni/Master/Semester_2/CompWorkflows/day_06/files_dir/fastq_1.fq\r\n",
      "/mnt/c/Users/julia/Documents/Uni/Master/Semester_2/CompWorkflows/day_06/files_dir/fastq_2.fq\r\n"
     ]
    }
   ],
   "execution_count": 8
  },
  {
   "cell_type": "code",
   "metadata": {
    "ExecuteTime": {
     "end_time": "2024-10-07T08:13:55.297796Z",
     "start_time": "2024-10-07T08:13:52.178856Z"
    }
   },
   "source": [
    "# Task 6 - go back to the time when you included all files. Are you sure that really ALL files are included? If not, how can you include them?\n",
    "!nextflow run channels_intro.nf --step 6"
   ],
   "outputs": [
    {
     "name": "stdout",
     "output_type": "stream",
     "text": [
      "\u001B[33mNextflow 24.04.4 is available - Please consider updating your version to it\u001B[m\r\n",
      "N E X T F L O W  ~  version 23.10.1\r\n",
      "Launching `channels_intro.nf` [kickass_lagrange] DSL2 - revision: 07970c2767\r\n",
      "/mnt/c/Users/julia/Documents/Uni/Master/Semester_2/CompWorkflows/day_06/files_dir/.hidden_1.txt\r\n",
      "/mnt/c/Users/julia/Documents/Uni/Master/Semester_2/CompWorkflows/day_06/files_dir/.hidden_2.txt\r\n",
      "/mnt/c/Users/julia/Documents/Uni/Master/Semester_2/CompWorkflows/day_06/files_dir/fastq.fq\r\n",
      "/mnt/c/Users/julia/Documents/Uni/Master/Semester_2/CompWorkflows/day_06/files_dir/fastq1_1.fq\r\n",
      "/mnt/c/Users/julia/Documents/Uni/Master/Semester_2/CompWorkflows/day_06/files_dir/fastq1_2.fq\r\n",
      "/mnt/c/Users/julia/Documents/Uni/Master/Semester_2/CompWorkflows/day_06/files_dir/fastq2_1.fq\r\n",
      "/mnt/c/Users/julia/Documents/Uni/Master/Semester_2/CompWorkflows/day_06/files_dir/fastq2_2.fq\r\n",
      "/mnt/c/Users/julia/Documents/Uni/Master/Semester_2/CompWorkflows/day_06/files_dir/fastq3_1.fq\r\n",
      "/mnt/c/Users/julia/Documents/Uni/Master/Semester_2/CompWorkflows/day_06/files_dir/fastq3_2.fq\r\n",
      "/mnt/c/Users/julia/Documents/Uni/Master/Semester_2/CompWorkflows/day_06/files_dir/fastq4_1.fq\r\n",
      "/mnt/c/Users/julia/Documents/Uni/Master/Semester_2/CompWorkflows/day_06/files_dir/fastq4_2.fq\r\n",
      "/mnt/c/Users/julia/Documents/Uni/Master/Semester_2/CompWorkflows/day_06/files_dir/fastq5_1.fq\r\n",
      "/mnt/c/Users/julia/Documents/Uni/Master/Semester_2/CompWorkflows/day_06/files_dir/fastq5_2.fq\r\n",
      "/mnt/c/Users/julia/Documents/Uni/Master/Semester_2/CompWorkflows/day_06/files_dir/fastq_1.fq\r\n",
      "/mnt/c/Users/julia/Documents/Uni/Master/Semester_2/CompWorkflows/day_06/files_dir/fastq_2.fq\r\n",
      "/mnt/c/Users/julia/Documents/Uni/Master/Semester_2/CompWorkflows/day_06/files_dir/file_1.txt\r\n",
      "/mnt/c/Users/julia/Documents/Uni/Master/Semester_2/CompWorkflows/day_06/files_dir/file_2.txt\r\n",
      "/mnt/c/Users/julia/Documents/Uni/Master/Semester_2/CompWorkflows/day_06/files_dir/file_3.txt\r\n",
      "/mnt/c/Users/julia/Documents/Uni/Master/Semester_2/CompWorkflows/day_06/files_dir/file_4.txt\r\n",
      "/mnt/c/Users/julia/Documents/Uni/Master/Semester_2/CompWorkflows/day_06/files_dir/file_5.txt\r\n",
      "/mnt/c/Users/julia/Documents/Uni/Master/Semester_2/CompWorkflows/day_06/files_dir/SRR.fq\r\n",
      "/mnt/c/Users/julia/Documents/Uni/Master/Semester_2/CompWorkflows/day_06/files_dir/SRR1_1.fq\r\n",
      "/mnt/c/Users/julia/Documents/Uni/Master/Semester_2/CompWorkflows/day_06/files_dir/SRR1_2.fq\r\n",
      "/mnt/c/Users/julia/Documents/Uni/Master/Semester_2/CompWorkflows/day_06/files_dir/SRR2_1.fq\r\n",
      "/mnt/c/Users/julia/Documents/Uni/Master/Semester_2/CompWorkflows/day_06/files_dir/SRR2_2.fq\r\n",
      "/mnt/c/Users/julia/Documents/Uni/Master/Semester_2/CompWorkflows/day_06/files_dir/SRR3_1.fq\r\n",
      "/mnt/c/Users/julia/Documents/Uni/Master/Semester_2/CompWorkflows/day_06/files_dir/SRR3_2.fq\r\n",
      "/mnt/c/Users/julia/Documents/Uni/Master/Semester_2/CompWorkflows/day_06/files_dir/SRR4_1.fq\r\n",
      "/mnt/c/Users/julia/Documents/Uni/Master/Semester_2/CompWorkflows/day_06/files_dir/SRR4_2.fq\r\n",
      "/mnt/c/Users/julia/Documents/Uni/Master/Semester_2/CompWorkflows/day_06/files_dir/SRR5_1.fq\r\n",
      "/mnt/c/Users/julia/Documents/Uni/Master/Semester_2/CompWorkflows/day_06/files_dir/SRR5_2.fq\r\n"
     ]
    }
   ],
   "execution_count": 9
  },
  {
   "cell_type": "code",
   "metadata": {
    "ExecuteTime": {
     "end_time": "2024-10-07T08:22:52.150775Z",
     "start_time": "2024-10-07T08:22:48.968045Z"
    }
   },
   "source": [
    "# Task 7 - get all filepairs in the \"files_dir\" directory\n",
    "!nextflow run channels_intro.nf --step 7"
   ],
   "outputs": [
    {
     "name": "stdout",
     "output_type": "stream",
     "text": [
      "\u001B[33mNextflow 24.04.4 is available - Please consider updating your version to it\u001B[m\r\n",
      "N E X T F L O W  ~  version 23.10.1\r\n",
      "Launching `channels_intro.nf` [furious_panini] DSL2 - revision: 6c4767effd\r\n",
      "[fastq1, [/mnt/c/Users/julia/Documents/Uni/Master/Semester_2/CompWorkflows/day_06/files_dir/fastq1_1.fq, /mnt/c/Users/julia/Documents/Uni/Master/Semester_2/CompWorkflows/day_06/files_dir/fastq1_2.fq]]\r\n",
      "[fastq2, [/mnt/c/Users/julia/Documents/Uni/Master/Semester_2/CompWorkflows/day_06/files_dir/fastq2_1.fq, /mnt/c/Users/julia/Documents/Uni/Master/Semester_2/CompWorkflows/day_06/files_dir/fastq2_2.fq]]\r\n",
      "[fastq3, [/mnt/c/Users/julia/Documents/Uni/Master/Semester_2/CompWorkflows/day_06/files_dir/fastq3_1.fq, /mnt/c/Users/julia/Documents/Uni/Master/Semester_2/CompWorkflows/day_06/files_dir/fastq3_2.fq]]\r\n",
      "[fastq4, [/mnt/c/Users/julia/Documents/Uni/Master/Semester_2/CompWorkflows/day_06/files_dir/fastq4_1.fq, /mnt/c/Users/julia/Documents/Uni/Master/Semester_2/CompWorkflows/day_06/files_dir/fastq4_2.fq]]\r\n",
      "[fastq5, [/mnt/c/Users/julia/Documents/Uni/Master/Semester_2/CompWorkflows/day_06/files_dir/fastq5_1.fq, /mnt/c/Users/julia/Documents/Uni/Master/Semester_2/CompWorkflows/day_06/files_dir/fastq5_2.fq]]\r\n",
      "[fastq, [/mnt/c/Users/julia/Documents/Uni/Master/Semester_2/CompWorkflows/day_06/files_dir/fastq_1.fq, /mnt/c/Users/julia/Documents/Uni/Master/Semester_2/CompWorkflows/day_06/files_dir/fastq_2.fq]]\r\n",
      "[SRR1, [/mnt/c/Users/julia/Documents/Uni/Master/Semester_2/CompWorkflows/day_06/files_dir/SRR1_1.fq, /mnt/c/Users/julia/Documents/Uni/Master/Semester_2/CompWorkflows/day_06/files_dir/SRR1_2.fq]]\r\n",
      "[SRR2, [/mnt/c/Users/julia/Documents/Uni/Master/Semester_2/CompWorkflows/day_06/files_dir/SRR2_1.fq, /mnt/c/Users/julia/Documents/Uni/Master/Semester_2/CompWorkflows/day_06/files_dir/SRR2_2.fq]]\r\n",
      "[SRR3, [/mnt/c/Users/julia/Documents/Uni/Master/Semester_2/CompWorkflows/day_06/files_dir/SRR3_1.fq, /mnt/c/Users/julia/Documents/Uni/Master/Semester_2/CompWorkflows/day_06/files_dir/SRR3_2.fq]]\r\n",
      "[SRR4, [/mnt/c/Users/julia/Documents/Uni/Master/Semester_2/CompWorkflows/day_06/files_dir/SRR4_1.fq, /mnt/c/Users/julia/Documents/Uni/Master/Semester_2/CompWorkflows/day_06/files_dir/SRR4_2.fq]]\r\n",
      "[SRR5, [/mnt/c/Users/julia/Documents/Uni/Master/Semester_2/CompWorkflows/day_06/files_dir/SRR5_1.fq, /mnt/c/Users/julia/Documents/Uni/Master/Semester_2/CompWorkflows/day_06/files_dir/SRR5_2.fq]]\r\n"
     ]
    }
   ],
   "execution_count": 11
  },
  {
   "cell_type": "markdown",
   "metadata": {},
   "source": [
    "## Now that you have a solid understanding of the basic concepts of channels in Nextflow, it’s time to experiment and see how they work in practice."
   ]
  },
  {
   "cell_type": "markdown",
   "metadata": {},
   "source": [
    "To do so, Nextflow has the concept of Operators to give and pass information inbetween channels.\n",
    "\n",
    "Please answer the questions in $\\texttt{basic\\_channel\\_operations.nf}$ and run the code here. "
   ]
  },
  {
   "cell_type": "code",
   "metadata": {
    "ExecuteTime": {
     "end_time": "2024-10-07T08:27:30.837102Z",
     "start_time": "2024-10-07T08:27:25.162084Z"
    }
   },
   "source": [
    "# Task 1 - Extract the first item from the channel\n",
    "!nextflow run basic_channel_operations.nf --step 1"
   ],
   "outputs": [
    {
     "name": "stdout",
     "output_type": "stream",
     "text": [
      "\u001B[33mNextflow 24.04.4 is available - Please consider updating your version to it\u001B[m\r\n",
      "N E X T F L O W  ~  version 23.10.1\r\n",
      "Launching `basic_channel_operations.nf` [special_rutherford] DSL2 - revision: 59e1575e94\r\n",
      "1\r\n"
     ]
    }
   ],
   "execution_count": 14
  },
  {
   "cell_type": "code",
   "metadata": {
    "ExecuteTime": {
     "end_time": "2024-10-07T08:28:31.307332Z",
     "start_time": "2024-10-07T08:28:27.702187Z"
    }
   },
   "source": [
    "# Task 2 - Extract the last item from the channel\n",
    "!nextflow run basic_channel_operations.nf --step 2"
   ],
   "outputs": [
    {
     "name": "stdout",
     "output_type": "stream",
     "text": [
      "\u001B[33mNextflow 24.04.4 is available - Please consider updating your version to it\u001B[m\r\n",
      "N E X T F L O W  ~  version 23.10.1\r\n",
      "Launching `basic_channel_operations.nf` [wise_edison] DSL2 - revision: aaaa9d6020\r\n",
      "3\r\n"
     ]
    }
   ],
   "execution_count": 16
  },
  {
   "cell_type": "code",
   "metadata": {
    "ExecuteTime": {
     "end_time": "2024-10-07T08:29:31.595672Z",
     "start_time": "2024-10-07T08:29:28.396883Z"
    }
   },
   "source": [
    "# Task 3 - Use an operator to extract the first two items from the channel\n",
    "!nextflow run basic_channel_operations.nf --step 3"
   ],
   "outputs": [
    {
     "name": "stdout",
     "output_type": "stream",
     "text": [
      "\u001B[33mNextflow 24.04.4 is available - Please consider updating your version to it\u001B[m\r\n",
      "N E X T F L O W  ~  version 23.10.1\r\n",
      "Launching `basic_channel_operations.nf` [zen_booth] DSL2 - revision: ae2eaf62ce\r\n",
      "1\r\n",
      "2\r\n"
     ]
    }
   ],
   "execution_count": 17
  },
  {
   "cell_type": "code",
   "metadata": {
    "ExecuteTime": {
     "end_time": "2024-10-07T08:30:22.863352Z",
     "start_time": "2024-10-07T08:30:19.643139Z"
    }
   },
   "source": [
    "# Task 4 - Return the squared values of the channel\n",
    "!nextflow run basic_channel_operations.nf --step 4"
   ],
   "outputs": [
    {
     "name": "stdout",
     "output_type": "stream",
     "text": [
      "\u001B[33mNextflow 24.04.4 is available - Please consider updating your version to it\u001B[m\r\n",
      "N E X T F L O W  ~  version 23.10.1\r\n",
      "Launching `basic_channel_operations.nf` [berserk_euler] DSL2 - revision: 7b20102c8f\r\n",
      "4\r\n",
      "9\r\n",
      "16\r\n"
     ]
    }
   ],
   "execution_count": 18
  },
  {
   "cell_type": "code",
   "metadata": {
    "ExecuteTime": {
     "end_time": "2024-10-07T08:31:19.547403Z",
     "start_time": "2024-10-07T08:31:16.349355Z"
    }
   },
   "source": [
    "# Task 5 - Remember the previous task where you squared the values of the channel. Now, extract the first two items from the squared channel\n",
    "!nextflow run basic_channel_operations.nf --step 5"
   ],
   "outputs": [
    {
     "name": "stdout",
     "output_type": "stream",
     "text": [
      "\u001B[33mNextflow 24.04.4 is available - Please consider updating your version to it\u001B[m\r\n",
      "N E X T F L O W  ~  version 23.10.1\r\n",
      "Launching `basic_channel_operations.nf` [sleepy_cajal] DSL2 - revision: 7b20102c8f\r\n",
      "4\r\n",
      "9\r\n"
     ]
    }
   ],
   "execution_count": 19
  },
  {
   "cell_type": "code",
   "metadata": {
    "ExecuteTime": {
     "end_time": "2024-10-07T08:33:11.732438Z",
     "start_time": "2024-10-07T08:33:08.259074Z"
    }
   },
   "source": [
    "# Task 6 - Remember when you used bash to reverse the output? Try to use map and Groovy to reverse the output\n",
    "!nextflow run basic_channel_operations.nf --step 6"
   ],
   "outputs": [
    {
     "name": "stdout",
     "output_type": "stream",
     "text": [
      "\u001B[33mNextflow 24.04.4 is available - Please consider updating your version to it\u001B[m\r\n",
      "N E X T F L O W  ~  version 23.10.1\r\n",
      "Launching `basic_channel_operations.nf` [trusting_blackwell] DSL2 - revision: a3a29bb4e2\r\n",
      "rolyaT\r\n",
      "tfiwS\r\n"
     ]
    }
   ],
   "execution_count": 20
  },
  {
   "cell_type": "code",
   "metadata": {
    "ExecuteTime": {
     "end_time": "2024-10-07T08:37:07.390536Z",
     "start_time": "2024-10-07T08:37:03.993551Z"
    }
   },
   "source": [
    "# Task 7 - Use fromPath to include all fastq files in the \"files_dir\" directory, then use map to return a pair containing the file name and the file path (Hint: include groovy code)\n",
    "!nextflow run basic_channel_operations.nf --step 7"
   ],
   "outputs": [
    {
     "name": "stdout",
     "output_type": "stream",
     "text": [
      "\u001B[33mNextflow 24.04.4 is available - Please consider updating your version to it\u001B[m\r\n",
      "N E X T F L O W  ~  version 23.10.1\r\n",
      "Launching `basic_channel_operations.nf` [chaotic_lamarr] DSL2 - revision: aa15c9246c\r\n",
      "[fastq.fq, /mnt/c/Users/julia/Documents/Uni/Master/Semester_2/CompWorkflows/day_06/files_dir/fastq.fq]\r\n",
      "[fastq1_1.fq, /mnt/c/Users/julia/Documents/Uni/Master/Semester_2/CompWorkflows/day_06/files_dir/fastq1_1.fq]\r\n",
      "[fastq1_2.fq, /mnt/c/Users/julia/Documents/Uni/Master/Semester_2/CompWorkflows/day_06/files_dir/fastq1_2.fq]\r\n",
      "[fastq2_1.fq, /mnt/c/Users/julia/Documents/Uni/Master/Semester_2/CompWorkflows/day_06/files_dir/fastq2_1.fq]\r\n",
      "[fastq2_2.fq, /mnt/c/Users/julia/Documents/Uni/Master/Semester_2/CompWorkflows/day_06/files_dir/fastq2_2.fq]\r\n",
      "[fastq3_1.fq, /mnt/c/Users/julia/Documents/Uni/Master/Semester_2/CompWorkflows/day_06/files_dir/fastq3_1.fq]\r\n",
      "[fastq3_2.fq, /mnt/c/Users/julia/Documents/Uni/Master/Semester_2/CompWorkflows/day_06/files_dir/fastq3_2.fq]\r\n",
      "[fastq4_1.fq, /mnt/c/Users/julia/Documents/Uni/Master/Semester_2/CompWorkflows/day_06/files_dir/fastq4_1.fq]\r\n",
      "[fastq4_2.fq, /mnt/c/Users/julia/Documents/Uni/Master/Semester_2/CompWorkflows/day_06/files_dir/fastq4_2.fq]\r\n",
      "[fastq5_1.fq, /mnt/c/Users/julia/Documents/Uni/Master/Semester_2/CompWorkflows/day_06/files_dir/fastq5_1.fq]\r\n",
      "[fastq5_2.fq, /mnt/c/Users/julia/Documents/Uni/Master/Semester_2/CompWorkflows/day_06/files_dir/fastq5_2.fq]\r\n",
      "[fastq_1.fq, /mnt/c/Users/julia/Documents/Uni/Master/Semester_2/CompWorkflows/day_06/files_dir/fastq_1.fq]\r\n",
      "[fastq_2.fq, /mnt/c/Users/julia/Documents/Uni/Master/Semester_2/CompWorkflows/day_06/files_dir/fastq_2.fq]\r\n",
      "[SRR.fq, /mnt/c/Users/julia/Documents/Uni/Master/Semester_2/CompWorkflows/day_06/files_dir/SRR.fq]\r\n",
      "[SRR1_1.fq, /mnt/c/Users/julia/Documents/Uni/Master/Semester_2/CompWorkflows/day_06/files_dir/SRR1_1.fq]\r\n",
      "[SRR1_2.fq, /mnt/c/Users/julia/Documents/Uni/Master/Semester_2/CompWorkflows/day_06/files_dir/SRR1_2.fq]\r\n",
      "[SRR2_1.fq, /mnt/c/Users/julia/Documents/Uni/Master/Semester_2/CompWorkflows/day_06/files_dir/SRR2_1.fq]\r\n",
      "[SRR2_2.fq, /mnt/c/Users/julia/Documents/Uni/Master/Semester_2/CompWorkflows/day_06/files_dir/SRR2_2.fq]\r\n",
      "[SRR3_1.fq, /mnt/c/Users/julia/Documents/Uni/Master/Semester_2/CompWorkflows/day_06/files_dir/SRR3_1.fq]\r\n",
      "[SRR3_2.fq, /mnt/c/Users/julia/Documents/Uni/Master/Semester_2/CompWorkflows/day_06/files_dir/SRR3_2.fq]\r\n",
      "[SRR4_1.fq, /mnt/c/Users/julia/Documents/Uni/Master/Semester_2/CompWorkflows/day_06/files_dir/SRR4_1.fq]\r\n",
      "[SRR4_2.fq, /mnt/c/Users/julia/Documents/Uni/Master/Semester_2/CompWorkflows/day_06/files_dir/SRR4_2.fq]\r\n",
      "[SRR5_1.fq, /mnt/c/Users/julia/Documents/Uni/Master/Semester_2/CompWorkflows/day_06/files_dir/SRR5_1.fq]\r\n",
      "[SRR5_2.fq, /mnt/c/Users/julia/Documents/Uni/Master/Semester_2/CompWorkflows/day_06/files_dir/SRR5_2.fq]\r\n"
     ]
    }
   ],
   "execution_count": 23
  },
  {
   "cell_type": "code",
   "metadata": {
    "ExecuteTime": {
     "end_time": "2024-10-07T08:39:10.874214Z",
     "start_time": "2024-10-07T08:39:07.058014Z"
    }
   },
   "source": [
    "# Task 8 - Combine the items from the two channels into a single channel\n",
    "!nextflow run basic_channel_operations.nf --step 8"
   ],
   "outputs": [
    {
     "name": "stdout",
     "output_type": "stream",
     "text": [
      "\u001B[33mNextflow 24.04.4 is available - Please consider updating your version to it\u001B[m\r\n",
      "N E X T F L O W  ~  version 23.10.1\r\n",
      "Launching `basic_channel_operations.nf` [distracted_lichterman] DSL2 - revision: 667b52d17a\r\n",
      "4\r\n",
      "1\r\n",
      "2\r\n",
      "3\r\n",
      "a\r\n",
      "b\r\n",
      "c\r\n",
      "5\r\n",
      "6\r\n"
     ]
    }
   ],
   "execution_count": 25
  },
  {
   "cell_type": "code",
   "metadata": {
    "ExecuteTime": {
     "end_time": "2024-10-07T08:40:56.641361Z",
     "start_time": "2024-10-07T08:40:53.282375Z"
    }
   },
   "source": [
    "# Task 9 - Flatten the list in the channel\n",
    "!nextflow run basic_channel_operations.nf --step 9"
   ],
   "outputs": [
    {
     "name": "stdout",
     "output_type": "stream",
     "text": [
      "\u001B[33mNextflow 24.04.4 is available - Please consider updating your version to it\u001B[m\r\n",
      "N E X T F L O W  ~  version 23.10.1\r\n",
      "Launching `basic_channel_operations.nf` [sleepy_galileo] DSL2 - revision: 39d02ead9b\r\n",
      "1\r\n",
      "2\r\n",
      "3\r\n",
      "4\r\n",
      "5\r\n",
      "6\r\n"
     ]
    }
   ],
   "execution_count": 28
  },
  {
   "cell_type": "code",
   "metadata": {
    "ExecuteTime": {
     "end_time": "2024-10-07T08:42:45.046041Z",
     "start_time": "2024-10-07T08:42:41.094298Z"
    }
   },
   "source": [
    "# Task 10 - Collect the items of a channel into a list. What kind of channel is the output channel?\n",
    "!nextflow run basic_channel_operations.nf --step 10"
   ],
   "outputs": [
    {
     "name": "stdout",
     "output_type": "stream",
     "text": [
      "\u001B[33mNextflow 24.04.4 is available - Please consider updating your version to it\u001B[m\r\n",
      "N E X T F L O W  ~  version 23.10.1\r\n",
      "Launching `basic_channel_operations.nf` [ridiculous_mclean] DSL2 - revision: c8072cbd44\r\n",
      "[1, 2, 3]\r\n"
     ]
    }
   ],
   "execution_count": 29
  },
  {
   "cell_type": "markdown",
   "metadata": {},
   "source": [
    "What kind of channel is the output channel?"
   ]
  },
  {
   "metadata": {},
   "cell_type": "markdown",
   "source": "The output channel is a value channel."
  },
  {
   "cell_type": "code",
   "metadata": {
    "ExecuteTime": {
     "end_time": "2024-10-07T08:47:58.744685Z",
     "start_time": "2024-10-07T08:47:54.483480Z"
    }
   },
   "source": [
    "# Task 11 -  From the input channel, create lists where each first item in the list of lists is the first item in the output channel, followed by a list of all the items it's paired with\n",
    "!nextflow run basic_channel_operations.nf --step 11"
   ],
   "outputs": [
    {
     "name": "stdout",
     "output_type": "stream",
     "text": [
      "\u001B[33mNextflow 24.04.4 is available - Please consider updating your version to it\u001B[m\r\n",
      "N E X T F L O W  ~  version 23.10.1\r\n",
      "Launching `basic_channel_operations.nf` [ridiculous_kalman] DSL2 - revision: 3918bce79b\r\n",
      "[1, [V, f, B]]\r\n",
      "[3, [M, G, 33]]\r\n",
      "[2, [O, L, E]]\r\n"
     ]
    }
   ],
   "execution_count": 30
  },
  {
   "cell_type": "code",
   "metadata": {
    "ExecuteTime": {
     "end_time": "2024-10-07T08:52:55.952023Z",
     "start_time": "2024-10-07T08:52:52.088713Z"
    }
   },
   "source": [
    "# Task 12 - Create a channel that joins the input to the output channel. What do you notice?\n",
    "!nextflow run basic_channel_operations.nf --step 12"
   ],
   "outputs": [
    {
     "name": "stdout",
     "output_type": "stream",
     "text": [
      "\u001B[33mNextflow 24.04.4 is available - Please consider updating your version to it\u001B[m\r\n",
      "N E X T F L O W  ~  version 23.10.1\r\n",
      "Launching `basic_channel_operations.nf` [furious_shannon] DSL2 - revision: 74b5a17766\r\n",
      "[1, V, f]\r\n",
      "[3, M, G]\r\n",
      "[2, O, L]\r\n",
      "[1, B, null]\r\n",
      "[3, 33, null]\r\n",
      "[2, null, E]\r\n"
     ]
    }
   ],
   "execution_count": 32
  },
  {
   "cell_type": "markdown",
   "metadata": {},
   "source": [
    "Task 12 - What do you notice compared to Task 11?"
   ]
  },
  {
   "metadata": {},
   "cell_type": "markdown",
   "source": "By default, unmatched items are discarded. The remainder option can be used to emit them at the end."
  },
  {
   "cell_type": "code",
   "metadata": {
    "ExecuteTime": {
     "end_time": "2024-10-07T09:03:05.809010Z",
     "start_time": "2024-10-07T09:03:02.320722Z"
    }
   },
   "source": [
    "# Task 13 - Split the input channel into two channels, one of all the even numbers and the other of all the odd numbers. Write them to stdout including information about which is which\n",
    "!nextflow run basic_channel_operations.nf --step 13 -dump-channels"
   ],
   "outputs": [
    {
     "name": "stdout",
     "output_type": "stream",
     "text": [
      "\u001B[33mNextflow 24.04.4 is available - Please consider updating your version to it\u001B[m\r\n",
      "N E X T F L O W  ~  version 23.10.1\r\n",
      "Launching `basic_channel_operations.nf` [soggy_picasso] DSL2 - revision: 4473f4232b\r\n",
      "Even: [2, 4, 6, 8, 10]\r\n",
      "Odd: [1, 3, 5, 7, 9]\r\n"
     ]
    }
   ],
   "execution_count": 36
  },
  {
   "cell_type": "code",
   "metadata": {
    "ExecuteTime": {
     "end_time": "2024-10-07T09:08:57.047385Z",
     "start_time": "2024-10-07T09:08:53.267627Z"
    }
   },
   "source": [
    "# Task 14 - Nextflow has the concept of maps. Write the names in the maps in this channel to a file called \"names.txt\". Each name should be on a new line. \n",
    "# Store the file in the \"results\" directory under the name \"names.txt\"\n",
    "!nextflow run basic_channel_operations.nf --step 14"
   ],
   "outputs": [
    {
     "name": "stdout",
     "output_type": "stream",
     "text": [
      "\u001B[33mNextflow 24.04.4 is available - Please consider updating your version to it\u001B[m\r\n",
      "N E X T F L O W  ~  version 23.10.1\r\n",
      "Launching `basic_channel_operations.nf` [naughty_snyder] DSL2 - revision: 2ab4638e9d\r\n"
     ]
    }
   ],
   "execution_count": 37
  },
  {
   "metadata": {
    "ExecuteTime": {
     "end_time": "2024-10-07T09:09:04.605313Z",
     "start_time": "2024-10-07T09:09:04.484757Z"
    }
   },
   "cell_type": "code",
   "source": "!cat results/names.txt",
   "outputs": [
    {
     "name": "stdout",
     "output_type": "stream",
     "text": [
      "Hermione\r\n",
      "Harry\r\n",
      "Snape\r\n",
      "Hagrid\r\n",
      "Dobby\r\n",
      "Ron\r\n",
      "Albus\r\n"
     ]
    }
   ],
   "execution_count": 38
  },
  {
   "cell_type": "markdown",
   "metadata": {},
   "source": [
    "## Now that we learned about Channels and Operators to deal with them, let's focus on Processes that make use of these channels."
   ]
  },
  {
   "cell_type": "markdown",
   "metadata": {},
   "source": [
    "Please answer the questions in $\\texttt{basics\\_processes.nf}$ and run the code here. "
   ]
  },
  {
   "cell_type": "code",
   "metadata": {
    "ExecuteTime": {
     "end_time": "2024-10-07T09:14:03.386028Z",
     "start_time": "2024-10-07T09:13:59.330034Z"
    }
   },
   "source": [
    "# Task 1 - create a process that says Hello World! (add debug true to the process right after initializing to be able to print the output to the console)\n",
    "!nextflow run basics_processes.nf --step 1"
   ],
   "outputs": [
    {
     "name": "stdout",
     "output_type": "stream",
     "text": [
      "\u001B[33mNextflow 24.04.4 is available - Please consider updating your version to it\u001B[m\r\n",
      "N E X T F L O W  ~  version 23.10.1\r\n",
      "Launching `basics_processes.nf` [silly_ride] DSL2 - revision: cf7a5e0ce7\r\n",
      "[-        ] process > SAYHELLO -\u001B[K\r\n",
      "\u001B[2A\r\n",
      "executor >  local (1)\u001B[K\r\n",
      "[85/e22ae0] process > SAYHELLO [  0%] 0 of 1\u001B[K\r\n",
      "\u001B[3A\r\n",
      "executor >  local (1)\u001B[K\r\n",
      "[85/e22ae0] process > SAYHELLO [100%] 1 of 1 ✔\u001B[K\r\n",
      "Hello World!\u001B[K\r\n",
      "\u001B[K\r\n",
      "\r\n"
     ]
    }
   ],
   "execution_count": 39
  },
  {
   "cell_type": "code",
   "metadata": {
    "ExecuteTime": {
     "end_time": "2024-10-07T09:26:18.052739Z",
     "start_time": "2024-10-07T09:26:14.141652Z"
    }
   },
   "source": [
    "# Task 2 - create a process that says Hello World! using Python\n",
    "!nextflow run basics_processes.nf --step 2"
   ],
   "outputs": [
    {
     "name": "stdout",
     "output_type": "stream",
     "text": [
      "\u001B[33mNextflow 24.04.4 is available - Please consider updating your version to it\u001B[m\r\n",
      "N E X T F L O W  ~  version 23.10.1\r\n",
      "Launching `basics_processes.nf` [kickass_cantor] DSL2 - revision: ac74cbc861\r\n",
      "[-        ] process > SAYHELLO_PYTHON [  0%] 0 of 1\u001B[K\r\n",
      "\u001B[2A\r\n",
      "executor >  local (1)\u001B[K\r\n",
      "[d8/7ec6ad] process > SAYHELLO_PYTHON [100%] 1 of 1 ✔\u001B[K\r\n",
      "Hello World!\u001B[K\r\n",
      "\u001B[K\r\n",
      "\r\n"
     ]
    }
   ],
   "execution_count": 50
  },
  {
   "cell_type": "code",
   "metadata": {
    "ExecuteTime": {
     "end_time": "2024-10-07T09:29:35.229863Z",
     "start_time": "2024-10-07T09:29:31.300106Z"
    }
   },
   "source": [
    "# Task 3 - create a process that reads in the string \"Hello world!\" from a channel and write it to command line\n",
    "!nextflow run basics_processes.nf --step 3"
   ],
   "outputs": [
    {
     "name": "stdout",
     "output_type": "stream",
     "text": [
      "\u001B[33mNextflow 24.04.4 is available - Please consider updating your version to it\u001B[m\r\n",
      "N E X T F L O W  ~  version 23.10.1\r\n",
      "Launching `basics_processes.nf` [stoic_galileo] DSL2 - revision: f8fcadee2b\r\n",
      "executor >  local (1)\u001B[K\r\n",
      "[81/2463ee] process > SAYHELLO_PARAM (1) [  0%] 0 of 1\u001B[K\r\n",
      "\u001B[3A\r\n",
      "executor >  local (1)\u001B[K\r\n",
      "[81/2463ee] process > SAYHELLO_PARAM (1) [100%] 1 of 1 ✔\u001B[K\r\n",
      "Hello world!\u001B[K\r\n",
      "\u001B[K\r\n",
      "\r\n"
     ]
    }
   ],
   "execution_count": 52
  },
  {
   "cell_type": "code",
   "metadata": {
    "ExecuteTime": {
     "end_time": "2024-10-07T09:32:23.336015Z",
     "start_time": "2024-10-07T09:32:19.069870Z"
    }
   },
   "source": [
    "# Task 4 - create a process that reads in the string \"Hello world!\" from a channel and write it to a file. \n",
    "!nextflow run basics_processes.nf --step 4"
   ],
   "outputs": [
    {
     "name": "stdout",
     "output_type": "stream",
     "text": [
      "\u001B[33mNextflow 24.04.4 is available - Please consider updating your version to it\u001B[m\r\n",
      "N E X T F L O W  ~  version 23.10.1\r\n",
      "Launching `basics_processes.nf` [deadly_allen] DSL2 - revision: 799d288e5b\r\n",
      "[-        ] process > SAYHELLO_FILE -\u001B[K\r\n",
      "\u001B[2A\r\n",
      "executor >  local (1)\u001B[K\r\n",
      "[62/38c0e0] process > SAYHELLO_FILE (1) [  0%] 0 of 1\u001B[K\r\n",
      "\u001B[K\r\n",
      "\u001B[4A\r\n",
      "executor >  local (1)\u001B[K\r\n",
      "[62/38c0e0] process > SAYHELLO_FILE (1) [100%] 1 of 1 ✔\u001B[K\r\n",
      "\u001B[K\r\n",
      "\r\n"
     ]
    }
   ],
   "execution_count": 53
  },
  {
   "cell_type": "markdown",
   "metadata": {},
   "source": [
    "It might be that you created the file but it doesnt appear in the directory. Use the work folder and the output on the command line to find the file."
   ]
  },
  {
   "cell_type": "code",
   "metadata": {
    "ExecuteTime": {
     "end_time": "2024-10-07T09:37:26.585249Z",
     "start_time": "2024-10-07T09:37:22.863938Z"
    }
   },
   "source": [
    "# Task 5 - create a process that reads in a string and converts it to uppercase and saves it to a file as output. View the path to the file in the console\n",
    "!nextflow run basics_processes.nf --step 5"
   ],
   "outputs": [
    {
     "name": "stdout",
     "output_type": "stream",
     "text": [
      "\u001B[33mNextflow 24.04.4 is available - Please consider updating your version to it\u001B[m\r\n",
      "N E X T F L O W  ~  version 23.10.1\r\n",
      "Launching `basics_processes.nf` [berserk_bartik] DSL2 - revision: a1909f4b28\r\n",
      "[-        ] process > UPPERCASE -\u001B[K\r\n",
      "\u001B[2A\r\n",
      "executor >  local (1)\u001B[K\r\n",
      "[f6/b830cc] process > UPPERCASE (1) [  0%] 0 of 1\u001B[K\r\n",
      "\u001B[3A\r\n",
      "executor >  local (1)\u001B[K\r\n",
      "[f6/b830cc] process > UPPERCASE (1) [100%] 1 of 1 ✔\u001B[K\r\n",
      "/mnt/c/Users/julia/Documents/Uni/Master/Semester_2/CompWorkflows/day_06/work/f6/b830cc227b3418fb252a832f013cb5/greetings.txt\u001B[K\r\n",
      "\u001B[K\r\n",
      "\r\n"
     ]
    }
   ],
   "execution_count": 54
  },
  {
   "cell_type": "code",
   "metadata": {
    "ExecuteTime": {
     "end_time": "2024-10-07T09:40:29.643935Z",
     "start_time": "2024-10-07T09:40:25.348101Z"
    }
   },
   "source": [
    "# Task 6 - add another process that reads in the resulting file from UPPERCASE and print the content to the console (debug true).\n",
    "!nextflow run basics_processes.nf --step 6"
   ],
   "outputs": [
    {
     "name": "stdout",
     "output_type": "stream",
     "text": [
      "\u001B[33mNextflow 24.04.4 is available - Please consider updating your version to it\u001B[m\r\n",
      "N E X T F L O W  ~  version 23.10.1\r\n",
      "Launching `basics_processes.nf` [mad_gilbert] DSL2 - revision: d948498890\r\n",
      "[-        ] process > UPPERCASE  -\u001B[K\r\n",
      "[-        ] process > PRINTUPPER -\u001B[K\r\n",
      "\u001B[3A\r\n",
      "executor >  local (1)\u001B[K\r\n",
      "[2d/2a73ce] process > UPPERCASE (1) [100%] 1 of 1 ✔\u001B[K\r\n",
      "[-        ] process > PRINTUPPER    -\u001B[K\r\n",
      "\u001B[K\r\n",
      "\u001B[5A\r\n",
      "executor >  local (2)\u001B[K\r\n",
      "[2d/2a73ce] process > UPPERCASE (1)  [100%] 1 of 1 ✔\u001B[K\r\n",
      "[61/066981] process > PRINTUPPER (1) [100%] 1 of 1 ✔\u001B[K\r\n",
      "\u001B[K\r\n",
      "HELLO WORLD!\u001B[K\r\n",
      "\u001B[K\r\n",
      "\r\n"
     ]
    }
   ],
   "execution_count": 55
  },
  {
   "cell_type": "markdown",
   "metadata": {},
   "source": [
    "Comared to all the other runs. What changed in the output here and why?"
   ]
  },
  {
   "metadata": {},
   "cell_type": "markdown",
   "source": "Instead of only one call to a process, there are now two processes that are executed."
  },
  {
   "cell_type": "code",
   "metadata": {
    "ExecuteTime": {
     "end_time": "2024-10-07T11:26:40.279127Z",
     "start_time": "2024-10-07T11:26:30.718008Z"
    }
   },
   "source": [
    "# Task 7 - based on the parameter \"zip\" (see at the head of the file), create a process that zips the file created in the UPPERCASE process either in \"zip\", \"gzip\" OR \"bzip2\" format.\n",
    "# Print out the path to the zipped file in the console\n",
    "!nextflow run basics_processes.nf --step 7"
   ],
   "outputs": [
    {
     "name": "stdout",
     "output_type": "stream",
     "text": [
      "\u001B[33mNextflow 24.04.4 is available - Please consider updating your version to it\u001B[m\r\n",
      "N E X T F L O W  ~  version 23.10.1\r\n",
      "Launching `basics_processes.nf` [cranky_hawking] DSL2 - revision: b83de869c1\r\n",
      "[-        ] process > UPPERCASE -\u001B[K\r\n",
      "[-        ] process > ZIP       -\u001B[K\r\n",
      "\u001B[3A\r\n",
      "[-        ] process > UPPERCASE [  0%] 0 of 1\u001B[K\r\n",
      "[-        ] process > ZIP       -\u001B[K\r\n",
      "\u001B[3A\r\n",
      "executor >  local (1)\u001B[K\r\n",
      "[96/794966] process > UPPERCASE (1) [  0%] 0 of 1\u001B[K\r\n",
      "[-        ] process > ZIP           -\u001B[K\r\n",
      "\u001B[4A\r\n",
      "executor >  local (1)\u001B[K\r\n",
      "[96/794966] process > UPPERCASE (1) [  0%] 0 of 1 ✔\u001B[K\r\n",
      "[-        ] process > ZIP           -\u001B[K\r\n",
      "\u001B[K\r\n",
      "\u001B[5A\r\n",
      "executor >  local (1)\u001B[K\r\n",
      "[96/794966] process > UPPERCASE (1) [100%] 1 of 1 ✔\u001B[K\r\n",
      "[-        ] process > ZIP           [  0%] 0 of 1\u001B[K\r\n",
      "\u001B[K\r\n",
      "\u001B[5A\r\n",
      "executor >  local (2)\u001B[K\r\n",
      "[96/794966] process > UPPERCASE (1) [100%] 1 of 1 ✔\u001B[K\r\n",
      "[4f/f80fac] process > ZIP (1)       [100%] 1 of 1 ✔\u001B[K\r\n",
      "\u001B[K\r\n",
      "/mnt/c/Users/julia/Documents/Uni/Master/Semester_2/CompWorkflows/day_06/work/4f/f80fac917b9f2652bc56e8b5d4d0b1/greetings.zip\u001B[K\r\n",
      "  adding: greetings.txt (stored 0%)\u001B[K\r\n",
      "\u001B[K\r\n",
      "\r\n"
     ]
    }
   ],
   "execution_count": 71
  },
  {
   "cell_type": "code",
   "metadata": {
    "ExecuteTime": {
     "end_time": "2024-10-07T11:28:15.467060Z",
     "start_time": "2024-10-07T11:28:06.857352Z"
    }
   },
   "source": [
    "# Task 8 - Create a process that zips the file created in the UPPERCASE process in \"zip\", \"gzip\" AND \"bzip2\" format. Print out the paths to the zipped files in the console\n",
    "!nextflow run basics_processes.nf --step 8"
   ],
   "outputs": [
    {
     "name": "stdout",
     "output_type": "stream",
     "text": [
      "\u001B[33mNextflow 24.04.4 is available - Please consider updating your version to it\u001B[m\r\n",
      "N E X T F L O W  ~  version 23.10.1\r\n",
      "Launching `basics_processes.nf` [magical_varahamihira] DSL2 - revision: 5ff9f8ad1a\r\n",
      "[-        ] process > UPPERCASE -\u001B[K\r\n",
      "[-        ] process > ZIP_ALL   -\u001B[K\r\n",
      "\u001B[3A\r\n",
      "executor >  local (1)\u001B[K\r\n",
      "[94/70d761] process > UPPERCASE (1) [  0%] 0 of 1\u001B[K\r\n",
      "[-        ] process > ZIP_ALL       -\u001B[K\r\n",
      "\u001B[4A\r\n",
      "executor >  local (1)\u001B[K\r\n",
      "[94/70d761] process > UPPERCASE (1) [100%] 1 of 1 ✔\u001B[K\r\n",
      "[-        ] process > ZIP_ALL       [  0%] 0 of 1\u001B[K\r\n",
      "\u001B[K\r\n",
      "\u001B[5A\r\n",
      "executor >  local (2)\u001B[K\r\n",
      "[94/70d761] process > UPPERCASE (1) [100%] 1 of 1 ✔\u001B[K\r\n",
      "[91/468a2c] process > ZIP_ALL (1)   [  0%] 0 of 1\u001B[K\r\n",
      "\u001B[K\r\n",
      "\u001B[5A\r\n",
      "executor >  local (2)\u001B[K\r\n",
      "[94/70d761] process > UPPERCASE (1) [100%] 1 of 1 ✔\u001B[K\r\n",
      "[91/468a2c] process > ZIP_ALL (1)   [100%] 1 of 1 ✔\u001B[K\r\n",
      "\u001B[K\r\n",
      "[/mnt/c/Users/julia/Documents/Uni/Master/Semester_2/CompWorkflows/day_06/work/91/468a2cdbeec5847c8fda47d086e877/greetings.txt.bz2, /mnt/c/Users/julia/Documents/Uni/Master/Semester_2/CompWorkflows/day_06/work/91/468a2cdbeec5847c8fda47d086e877/greetings.txt.gz, /mnt/c/Users/julia/Documents/Uni/Master/Semester_2/CompWorkflows/day_06/work/91/468a2cdbeec5847c8fda47d086e877/greetings.zip]\u001B[K\r\n",
      "  adding: greetings.txt (stored 0%)\u001B[K\r\n",
      "\u001B[K\r\n",
      "\u001B[8A\r\n",
      "executor >  local (2)\u001B[K\r\n",
      "[94/70d761] process > UPPERCASE (1) [100%] 1 of 1 ✔\u001B[K\r\n",
      "[91/468a2c] process > ZIP_ALL (1)   [100%] 1 of 1 ✔\u001B[K\r\n",
      "\u001B[K\r\n",
      "[/mnt/c/Users/julia/Documents/Uni/Master/Semester_2/CompWorkflows/day_06/work/91/468a2cdbeec5847c8fda47d086e877/greetings.txt.bz2, /mnt/c/Users/julia/Documents/Uni/Master/Semester_2/CompWorkflows/day_06/work/91/468a2cdbeec5847c8fda47d086e877/greetings.txt.gz, /mnt/c/Users/julia/Documents/Uni/Master/Semester_2/CompWorkflows/day_06/work/91/468a2cdbeec5847c8fda47d086e877/greetings.zip]\u001B[K\r\n",
      "  adding: greetings.txt (stored 0%)\u001B[K\r\n",
      "\u001B[K\r\n",
      "\r\n"
     ]
    }
   ],
   "execution_count": 74
  },
  {
   "cell_type": "code",
   "metadata": {
    "ExecuteTime": {
     "end_time": "2024-10-07T11:54:44.311850Z",
     "start_time": "2024-10-07T11:54:35.519345Z"
    }
   },
   "source": [
    " # Task 9 - Create a process that reads in a list of names and titles from a channel and writes them to a file. Store the file in the \"results\" directory under the name \"names.tsv\"\n",
    "!nextflow run basics_processes.nf --step 9"
   ],
   "outputs": [
    {
     "name": "stdout",
     "output_type": "stream",
     "text": [
      "\u001B[33mNextflow 24.04.4 is available - Please consider updating your version to it\u001B[m\r\n",
      "N E X T F L O W  ~  version 23.10.1\r\n",
      "Launching `basics_processes.nf` [amazing_almeida] DSL2 - revision: f616234481\r\n",
      "[-        ] process > WRITETOFILE -\u001B[K\r\n",
      "\u001B[2A\r\n",
      "executor >  local (2)\u001B[K\r\n",
      "[63/b9b398] process > WRITETOFILE (1) [  0%] 0 of 7\u001B[K\r\n",
      "\u001B[3A\r\n",
      "executor >  local (3)\u001B[K\r\n",
      "[3f/b1c80c] process > WRITETOFILE (2) [ 14%] 1 of 7\u001B[K\r\n",
      "\u001B[K\r\n",
      "\u001B[K\r\n",
      "\u001B[5A\r\n",
      "executor >  local (7)\u001B[K\r\n",
      "[1e/2a3b47] process > WRITETOFILE (7) [ 71%] 5 of 7\u001B[K\r\n",
      "\u001B[K\r\n",
      "\u001B[K\r\n",
      "\u001B[K\r\n",
      "\u001B[K\r\n",
      "\u001B[K\r\n",
      "\u001B[8A\r\n",
      "executor >  local (7)\u001B[K\r\n",
      "[1e/2a3b47] process > WRITETOFILE (7) [100%] 7 of 7 ✔\u001B[K\r\n",
      "\u001B[K\r\n",
      "\u001B[K\r\n",
      "\u001B[K\r\n",
      "\u001B[K\r\n",
      "\u001B[K\r\n",
      "\u001B[K\r\n",
      "\u001B[K\r\n",
      "\u001B[10A\r\n",
      "executor >  local (7)\u001B[K\r\n",
      "[1e/2a3b47] process > WRITETOFILE (7) [100%] 7 of 7 ✔\u001B[K\r\n",
      "\u001B[K\r\n",
      "\u001B[K\r\n",
      "\u001B[K\r\n",
      "\u001B[K\r\n",
      "\u001B[K\r\n",
      "\u001B[K\r\n",
      "\u001B[K\r\n",
      "\r\n"
     ]
    }
   ],
   "execution_count": 86
  },
  {
   "cell_type": "code",
   "metadata": {
    "ExecuteTime": {
     "end_time": "2024-10-07T11:54:52.349443Z",
     "start_time": "2024-10-07T11:54:52.134938Z"
    }
   },
   "source": [
    "import pandas as pd\n",
    "\n",
    "df = pd.read_csv(\"results/names.tsv\", sep=\"\\t\")\n",
    "df"
   ],
   "outputs": [
    {
     "data": {
      "text/plain": [
       "        Ron       student\n",
       "0     Harry       student\n",
       "1  Hermione       student\n",
       "2     Albus    headmaster\n",
       "3     Snape       teacher\n",
       "4    Hagrid  groundkeeper\n",
       "5     Dobby          hero"
      ],
      "text/html": [
       "<div>\n",
       "<style scoped>\n",
       "    .dataframe tbody tr th:only-of-type {\n",
       "        vertical-align: middle;\n",
       "    }\n",
       "\n",
       "    .dataframe tbody tr th {\n",
       "        vertical-align: top;\n",
       "    }\n",
       "\n",
       "    .dataframe thead th {\n",
       "        text-align: right;\n",
       "    }\n",
       "</style>\n",
       "<table border=\"1\" class=\"dataframe\">\n",
       "  <thead>\n",
       "    <tr style=\"text-align: right;\">\n",
       "      <th></th>\n",
       "      <th>Ron</th>\n",
       "      <th>student</th>\n",
       "    </tr>\n",
       "  </thead>\n",
       "  <tbody>\n",
       "    <tr>\n",
       "      <th>0</th>\n",
       "      <td>Harry</td>\n",
       "      <td>student</td>\n",
       "    </tr>\n",
       "    <tr>\n",
       "      <th>1</th>\n",
       "      <td>Hermione</td>\n",
       "      <td>student</td>\n",
       "    </tr>\n",
       "    <tr>\n",
       "      <th>2</th>\n",
       "      <td>Albus</td>\n",
       "      <td>headmaster</td>\n",
       "    </tr>\n",
       "    <tr>\n",
       "      <th>3</th>\n",
       "      <td>Snape</td>\n",
       "      <td>teacher</td>\n",
       "    </tr>\n",
       "    <tr>\n",
       "      <th>4</th>\n",
       "      <td>Hagrid</td>\n",
       "      <td>groundkeeper</td>\n",
       "    </tr>\n",
       "    <tr>\n",
       "      <th>5</th>\n",
       "      <td>Dobby</td>\n",
       "      <td>hero</td>\n",
       "    </tr>\n",
       "  </tbody>\n",
       "</table>\n",
       "</div>"
      ]
     },
     "execution_count": 87,
     "metadata": {},
     "output_type": "execute_result"
    }
   ],
   "execution_count": 87
  },
  {
   "cell_type": "markdown",
   "metadata": {},
   "source": [
    "## Now, let's try some more advanced Operators"
   ]
  },
  {
   "cell_type": "markdown",
   "metadata": {},
   "source": [
    "Please answer the questions in $\\texttt{advanced\\_channel\\_operations.nf}$ and run the code here. "
   ]
  },
  {
   "cell_type": "markdown",
   "metadata": {},
   "source": [
    "To come closer to actual pipelines, we introduce the concept of \"meta-maps\" which you can imagine as dictionaries that are passed with data via channels containing crucial metadata on the sample. \n",
    "\n",
    "Also, we will come back to samplesheets which you should remember from last week."
   ]
  },
  {
   "cell_type": "code",
   "metadata": {
    "ExecuteTime": {
     "end_time": "2024-10-08T09:11:45.581884Z",
     "start_time": "2024-10-08T09:11:30.678304Z"
    }
   },
   "source": [
    "# Task 1 - Read in the samplesheet.\n",
    "!nextflow run advanced_channel_operations.nf --step 1"
   ],
   "outputs": [
    {
     "name": "stdout",
     "output_type": "stream",
     "text": [
      "curl: (6) Could not resolve host: www.nextflow.io\r\n",
      "N E X T F L O W  ~  version 23.10.1\r\n",
      "Launching `advanced_channel_operations.nf` [trusting_lavoisier] DSL2 - revision: c12843fb71\r\n",
      "[sample:CONTROL_REP1, fastq_1:fq_1_R1.fastq.gz, fastq_2:fq_1_R2.fastq.gz, strandedness:auto]\r\n",
      "[sample:CONTROL_REP2, fastq_1:fq_2_R1.fastq.gz, fastq_2:fq_2_R2.fastq.gz, strandedness:forward]\r\n",
      "[sample:CONTROL_REP3, fastq_1:fq_3_R1.fastq.gz, fastq_2:fq_3_R2.fastq.gz, strandedness:reverse]\r\n",
      "[sample:CONTROL_REP1, fastq_1:fq_4_R1.fastq.gz, fastq_2:fq_4_R2.fastq.gz, strandedness:auto]\r\n"
     ]
    }
   ],
   "execution_count": 1
  },
  {
   "cell_type": "code",
   "metadata": {
    "ExecuteTime": {
     "end_time": "2024-10-08T09:12:17.634030Z",
     "start_time": "2024-10-08T09:12:04.046721Z"
    }
   },
   "source": [
    "# Task 2 - Read in the samplesheet and create a meta-map with all metadata and another list with the filenames ([[metadata_1 : metadata_1, ...], [fastq_1, fastq_2]]).\n",
    "# Set the output to a new channel \"in_ch\" and view the channel. YOU WILL NEED TO COPY AND PASTE THIS CODE INTO SOME OF THE FOLLOWING TASKS (sorry for that).\n",
    "!nextflow run advanced_channel_operations.nf --step 2"
   ],
   "outputs": [
    {
     "name": "stdout",
     "output_type": "stream",
     "text": [
      "curl: (6) Could not resolve host: www.nextflow.io\r\n",
      "N E X T F L O W  ~  version 23.10.1\r\n",
      "Launching `advanced_channel_operations.nf` [modest_lalande] DSL2 - revision: c12843fb71\r\n",
      "[[sample:CONTROL_REP1, strandedness:auto], [fq_1_R1.fastq.gz, fq_1_R2.fastq.gz]]\r\n",
      "[[sample:CONTROL_REP2, strandedness:forward], [fq_2_R1.fastq.gz, fq_2_R2.fastq.gz]]\r\n",
      "[[sample:CONTROL_REP3, strandedness:reverse], [fq_3_R1.fastq.gz, fq_3_R2.fastq.gz]]\r\n",
      "[[sample:CONTROL_REP1, strandedness:auto], [fq_4_R1.fastq.gz, fq_4_R2.fastq.gz]]\r\n"
     ]
    }
   ],
   "execution_count": 2
  },
  {
   "cell_type": "code",
   "metadata": {
    "ExecuteTime": {
     "end_time": "2024-10-08T09:14:18.375831Z",
     "start_time": "2024-10-08T09:14:05.135038Z"
    }
   },
   "source": [
    "# Task 3 - Now we assume that we want to handle different \"strandedness\" values differently. \n",
    "# Split the channel into the right number of channels and write them all to stdout so that we can understand which is which.\n",
    "!nextflow run advanced_channel_operations.nf --step 3 -dump-channels"
   ],
   "outputs": [
    {
     "name": "stdout",
     "output_type": "stream",
     "text": [
      "curl: (6) Could not resolve host: www.nextflow.io\r\n",
      "N E X T F L O W  ~  version 23.10.1\r\n",
      "Launching `advanced_channel_operations.nf` [angry_kay] DSL2 - revision: ed1290da8f\r\n",
      "Auto: [[sample:CONTROL_REP1, strandedness:auto], [fq_1_R1.fastq.gz, fq_1_R2.fastq.gz], [sample:CONTROL_REP1, strandedness:auto], [fq_4_R1.fastq.gz, fq_4_R2.fastq.gz]]\r\n",
      "Reverse: [[sample:CONTROL_REP3, strandedness:reverse], [fq_3_R1.fastq.gz, fq_3_R2.fastq.gz]]\r\n",
      "Forward: [[sample:CONTROL_REP2, strandedness:forward], [fq_2_R1.fastq.gz, fq_2_R2.fastq.gz]]\r\n"
     ]
    }
   ],
   "execution_count": 5
  },
  {
   "cell_type": "code",
   "metadata": {
    "ExecuteTime": {
     "end_time": "2024-10-08T09:15:59.319622Z",
     "start_time": "2024-10-08T09:15:46.049108Z"
    }
   },
   "source": [
    "# Task 4 - Group together all files with the same sample-id and strandedness value.\n",
    "!nextflow run advanced_channel_operations.nf --step 4"
   ],
   "outputs": [
    {
     "name": "stdout",
     "output_type": "stream",
     "text": [
      "curl: (6) Could not resolve host: www.nextflow.io\r\n",
      "N E X T F L O W  ~  version 23.10.1\r\n",
      "Launching `advanced_channel_operations.nf` [hungry_einstein] DSL2 - revision: bac0d267f5\r\n",
      "[[sample:CONTROL_REP1, strandedness:auto], [[fq_1_R1.fastq.gz, fq_1_R2.fastq.gz], [fq_4_R1.fastq.gz, fq_4_R2.fastq.gz]]]\r\n",
      "[[sample:CONTROL_REP2, strandedness:forward], [[fq_2_R1.fastq.gz, fq_2_R2.fastq.gz]]]\r\n",
      "[[sample:CONTROL_REP3, strandedness:reverse], [[fq_3_R1.fastq.gz, fq_3_R2.fastq.gz]]]\r\n"
     ]
    }
   ],
   "execution_count": 7
  },
  {
   "cell_type": "markdown",
   "metadata": {},
   "source": [
    "## It's finally time to link processes and channels with each other"
   ]
  },
  {
   "cell_type": "markdown",
   "metadata": {},
   "source": [
    "Please go to the file $\\texttt{link\\_p\\_c.nf}$"
   ]
  },
  {
   "cell_type": "code",
   "metadata": {
    "ExecuteTime": {
     "end_time": "2024-10-08T10:25:03.576848Z",
     "start_time": "2024-10-08T10:24:54.216461Z"
    }
   },
   "source": [
    "!nextflow run link_p_c.nf"
   ],
   "outputs": [
    {
     "name": "stdout",
     "output_type": "stream",
     "text": [
      "\u001B[33mNextflow 24.04.4 is available - Please consider updating your version to it\u001B[m\r\n",
      "N E X T F L O W  ~  version 23.10.1\r\n",
      "Launching `link_p_c.nf` [marvelous_magritte] DSL2 - revision: 5795063ba2\r\n",
      "[-        ] process > SPLITLETTERS -\u001B[K\r\n",
      "\u001B[2A\r\n",
      "[-        ] process > SPLITLETTERS   -\u001B[K\r\n",
      "[-        ] process > CONVERTTOUPPER -\u001B[K\r\n",
      "\u001B[3A\r\n",
      "executor >  local (2)\u001B[K\r\n",
      "[c3/f11e02] process > SPLITLETTERS (2) [  0%] 0 of 2\u001B[K\r\n",
      "[-        ] process > CONVERTTOUPPER   -\u001B[K\r\n",
      "\u001B[4A\r\n",
      "executor >  local (2)\u001B[K\r\n",
      "[c3/f11e02] process > SPLITLETTERS (2) [100%] 2 of 2 ✔\u001B[K\r\n",
      "[-        ] process > CONVERTTOUPPER   [  0%] 0 of 1\u001B[K\r\n",
      "\u001B[4A\r\n",
      "executor >  local (4)\u001B[K\r\n",
      "[c3/f11e02] process > SPLITLETTERS (2)   [100%] 2 of 2 ✔\u001B[K\r\n",
      "[0a/fe313c] process > CONVERTTOUPPER (1) [ 50%] 1 of 2\u001B[K\r\n",
      "HELL\u001B[K\r\n",
      "O WO\u001B[K\r\n",
      "RLD\u001B[K\r\n",
      "\u001B[K\r\n",
      "\u001B[8A\r\n",
      "executor >  local (4)\u001B[K\r\n",
      "[c3/f11e02] process > SPLITLETTERS (2)   [100%] 2 of 2 ✔\u001B[K\r\n",
      "[40/994251] process > CONVERTTOUPPER (2) [100%] 2 of 2 ✔\u001B[K\r\n",
      "HELL\u001B[K\r\n",
      "O WO\u001B[K\r\n",
      "RLD\u001B[K\r\n",
      "\u001B[K\r\n",
      "COM\u001B[K\r\n",
      "PUT\u001B[K\r\n",
      "ATI\u001B[K\r\n",
      "ONA\u001B[K\r\n",
      "L W\u001B[K\r\n",
      "ORK\u001B[K\r\n",
      "FLO\u001B[K\r\n",
      "WS\u001B[K\r\n",
      "\u001B[K\r\n",
      "\r\n"
     ]
    }
   ],
   "execution_count": 1
  },
  {
   "cell_type": "markdown",
   "metadata": {},
   "source": [
    "### Give a list with the paths to the chunk files"
   ]
  },
  {
   "cell_type": "code",
   "metadata": {
    "ExecuteTime": {
     "end_time": "2024-10-08T10:25:19.753052Z",
     "start_time": "2024-10-08T10:25:11.836541Z"
    }
   },
   "source": "!nextflow run link_p_c.nf -dump-channels block_files",
   "outputs": [
    {
     "name": "stdout",
     "output_type": "stream",
     "text": [
      "\u001B[33mNextflow 24.04.4 is available - Please consider updating your version to it\u001B[m\r\n",
      "N E X T F L O W  ~  version 23.10.1\r\n",
      "Launching `link_p_c.nf` [shrivelled_murdock] DSL2 - revision: 5795063ba2\r\n",
      "[-        ] process > SPLITLETTERS   -\u001B[K\r\n",
      "[-        ] process > CONVERTTOUPPER -\u001B[K\r\n",
      "\u001B[3A\r\n",
      "executor >  local (1)\u001B[K\r\n",
      "[d4/52dfe6] process > SPLITLETTERS (1) [  0%] 0 of 2\u001B[K\r\n",
      "[-        ] process > CONVERTTOUPPER   -\u001B[K\r\n",
      "\u001B[4A\r\n",
      "executor >  local (2)\u001B[K\r\n",
      "[d4/52dfe6] process > SPLITLETTERS (1) [ 50%] 1 of 2\u001B[K\r\n",
      "[-        ] process > CONVERTTOUPPER   -\u001B[K\r\n",
      "\u001B[4A\r\n",
      "executor >  local (3)\u001B[K\r\n",
      "[ff/f527b3] process > SPLITLETTERS (2)   [100%] 2 of 2 ✔\u001B[K\r\n",
      "[49/0ed070] process > CONVERTTOUPPER (1) [  0%] 0 of 2\u001B[K\r\n",
      "[DUMP: block_files] [/mnt/c/Users/julia/Documents/Uni/Master/Semester_2/CompWorkflows/day_06/work/d4/52dfe6ae761e5fca3532a0a6694750/h_w_0.txt, /mnt/c/Users/julia/Documents/Uni/Master/Semester_2/CompWorkflows/day_06/work/d4/52dfe6ae761e5fca3532a0a6694750/h_w_1.txt, /mnt/c/Users/julia/Documents/Uni/Master/Semester_2/CompWorkflows/day_06/work/d4/52dfe6ae761e5fca3532a0a6694750/h_w_2.txt, /mnt/c/Users/julia/Documents/Uni/Master/Semester_2/CompWorkflows/day_06/work/ff/f527b339aea7959d35c92e39a18470/c_w_0.txt, /mnt/c/Users/julia/Documents/Uni/Master/Semester_2/CompWorkflows/day_06/work/ff/f527b339aea7959d35c92e39a18470/c_w_1.txt, /mnt/c/Users/julia/Documents/Uni/Master/Semester_2/CompWorkflows/day_06/work/ff/f527b339aea7959d35c92e39a18470/c_w_2.txt, /mnt/c/Users/julia/Documents/Uni/Master/Semester_2/CompWorkflows/day_06/work/ff/f527b339aea7959d35c92e39a18470/c_w_3.txt, /mnt/c/Users/julia/Documents/Uni/Master/Semester_2/CompWorkflows/day_06/work/ff/f527b339aea7959d35c92e39a18470/c_w_4.txt, /mnt/c/Users/julia/Documents/Uni/Master/Semester_2/CompWorkflows/day_06/work/ff/f527b339aea7959d35c92e39a18470/c_w_5.txt, /mnt/c/Users/julia/Documents/Uni/Master/Semester_2/CompWorkflows/day_06/work/ff/f527b339aea7959d35c92e39a18470/c_w_6.txt, /mnt/c/Users/julia/Documents/Uni/Master/Semester_2/CompWorkflows/day_06/work/ff/f527b339aea7959d35c92e39a18470/c_w_7.txt]\u001B[K\r\n",
      "\u001B[5A\r\n",
      "executor >  local (4)\u001B[K\r\n",
      "[ff/f527b3] process > SPLITLETTERS (2)   [100%] 2 of 2 ✔\u001B[K\r\n",
      "[49/0ed070] process > CONVERTTOUPPER (1) [ 50%] 1 of 2\u001B[K\r\n",
      "[DUMP: block_files] [/mnt/c/Users/julia/Documents/Uni/Master/Semester_2/CompWorkflows/day_06/work/d4/52dfe6ae761e5fca3532a0a6694750/h_w_0.txt, /mnt/c/Users/julia/Documents/Uni/Master/Semester_2/CompWorkflows/day_06/work/d4/52dfe6ae761e5fca3532a0a6694750/h_w_1.txt, /mnt/c/Users/julia/Documents/Uni/Master/Semester_2/CompWorkflows/day_06/work/d4/52dfe6ae761e5fca3532a0a6694750/h_w_2.txt, /mnt/c/Users/julia/Documents/Uni/Master/Semester_2/CompWorkflows/day_06/work/ff/f527b339aea7959d35c92e39a18470/c_w_0.txt, /mnt/c/Users/julia/Documents/Uni/Master/Semester_2/CompWorkflows/day_06/work/ff/f527b339aea7959d35c92e39a18470/c_w_1.txt, /mnt/c/Users/julia/Documents/Uni/Master/Semester_2/CompWorkflows/day_06/work/ff/f527b339aea7959d35c92e39a18470/c_w_2.txt, /mnt/c/Users/julia/Documents/Uni/Master/Semester_2/CompWorkflows/day_06/work/ff/f527b339aea7959d35c92e39a18470/c_w_3.txt, /mnt/c/Users/julia/Documents/Uni/Master/Semester_2/CompWorkflows/day_06/work/ff/f527b339aea7959d35c92e39a18470/c_w_4.txt, /mnt/c/Users/julia/Documents/Uni/Master/Semester_2/CompWorkflows/day_06/work/ff/f527b339aea7959d35c92e39a18470/c_w_5.txt, /mnt/c/Users/julia/Documents/Uni/Master/Semester_2/CompWorkflows/day_06/work/ff/f527b339aea7959d35c92e39a18470/c_w_6.txt, /mnt/c/Users/julia/Documents/Uni/Master/Semester_2/CompWorkflows/day_06/work/ff/f527b339aea7959d35c92e39a18470/c_w_7.txt]\u001B[K\r\n",
      "HELL\u001B[K\r\n",
      "O WO\u001B[K\r\n",
      "RLD\u001B[K\r\n",
      "\u001B[K\r\n",
      "\u001B[9A\r\n",
      "executor >  local (4)\u001B[K\r\n",
      "[ff/f527b3] process > SPLITLETTERS (2)   [100%] 2 of 2 ✔\u001B[K\r\n",
      "[43/05a3f8] process > CONVERTTOUPPER (2) [100%] 2 of 2 ✔\u001B[K\r\n",
      "[DUMP: block_files] [/mnt/c/Users/julia/Documents/Uni/Master/Semester_2/CompWorkflows/day_06/work/d4/52dfe6ae761e5fca3532a0a6694750/h_w_0.txt, /mnt/c/Users/julia/Documents/Uni/Master/Semester_2/CompWorkflows/day_06/work/d4/52dfe6ae761e5fca3532a0a6694750/h_w_1.txt, /mnt/c/Users/julia/Documents/Uni/Master/Semester_2/CompWorkflows/day_06/work/d4/52dfe6ae761e5fca3532a0a6694750/h_w_2.txt, /mnt/c/Users/julia/Documents/Uni/Master/Semester_2/CompWorkflows/day_06/work/ff/f527b339aea7959d35c92e39a18470/c_w_0.txt, /mnt/c/Users/julia/Documents/Uni/Master/Semester_2/CompWorkflows/day_06/work/ff/f527b339aea7959d35c92e39a18470/c_w_1.txt, /mnt/c/Users/julia/Documents/Uni/Master/Semester_2/CompWorkflows/day_06/work/ff/f527b339aea7959d35c92e39a18470/c_w_2.txt, /mnt/c/Users/julia/Documents/Uni/Master/Semester_2/CompWorkflows/day_06/work/ff/f527b339aea7959d35c92e39a18470/c_w_3.txt, /mnt/c/Users/julia/Documents/Uni/Master/Semester_2/CompWorkflows/day_06/work/ff/f527b339aea7959d35c92e39a18470/c_w_4.txt, /mnt/c/Users/julia/Documents/Uni/Master/Semester_2/CompWorkflows/day_06/work/ff/f527b339aea7959d35c92e39a18470/c_w_5.txt, /mnt/c/Users/julia/Documents/Uni/Master/Semester_2/CompWorkflows/day_06/work/ff/f527b339aea7959d35c92e39a18470/c_w_6.txt, /mnt/c/Users/julia/Documents/Uni/Master/Semester_2/CompWorkflows/day_06/work/ff/f527b339aea7959d35c92e39a18470/c_w_7.txt]\u001B[K\r\n",
      "HELL\u001B[K\r\n",
      "O WO\u001B[K\r\n",
      "RLD\u001B[K\r\n",
      "\u001B[K\r\n",
      "COM\u001B[K\r\n",
      "PUT\u001B[K\r\n",
      "ATI\u001B[K\r\n",
      "ONA\u001B[K\r\n",
      "L W\u001B[K\r\n",
      "ORK\u001B[K\r\n",
      "FLO\u001B[K\r\n",
      "WS\u001B[K\r\n",
      "\u001B[K\r\n",
      "\r\n"
     ]
    }
   ],
   "execution_count": 2
  },
  {
   "cell_type": "markdown",
   "metadata": {},
   "source": [
    "### Why was CONVERTTOUPPER run so often?"
   ]
  },
  {
   "metadata": {},
   "cell_type": "markdown",
   "source": "The input to the `CONVERTTOUPPER` process is the output of the `SPLITLETTERS` process. The `SPLITLETTERS` process is invoked two times and produces a list of file paths for each invocation. Because the individual runs are independent of each other, the `CONVERTTOUPPER` process can start processing the output of the `SPLITLETTERS` process as soon as it is finished for one input. This way, the execution of processes can be paralleled to be more efficient. If the input to `CONVERTTOUPPER` is changed to `block_ch.collect()`, `CONVERTTOUPPER` is only executed once because it has to wait for `SPLITLETTERS` to finish processing all inputs."
  }
 ],
 "metadata": {
  "kernelspec": {
   "display_name": "work",
   "language": "python",
   "name": "python3"
  },
  "language_info": {
   "codemirror_mode": {
    "name": "ipython",
    "version": 3
   },
   "file_extension": ".py",
   "mimetype": "text/x-python",
   "name": "python",
   "nbconvert_exporter": "python",
   "pygments_lexer": "ipython3",
   "version": "3.10.13"
  }
 },
 "nbformat": 4,
 "nbformat_minor": 2
}
