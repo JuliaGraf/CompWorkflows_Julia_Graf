{
 "cells": [
  {
   "cell_type": "markdown",
   "metadata": {},
   "source": [
    "# Day 2\n",
    "\n",
    "Today, we will start using nf-core pipelines to find differentially abundant genes in our dataset. \n",
    "We are using data from the following paper: https://www.nature.com/articles/s41593-023-01350-3#Sec10"
   ]
  },
  {
   "cell_type": "markdown",
   "metadata": {
    "vscode": {
     "languageId": "plaintext"
    }
   },
   "source": [
    "1. Please take some time to read through the paper and understand their approach, hypotheses and goals."
   ]
  },
  {
   "cell_type": "markdown",
   "metadata": {
    "vscode": {
     "languageId": "plaintext"
    }
   },
   "source": [
    "What was the objective of the study?"
   ]
  },
  {
   "metadata": {},
   "cell_type": "markdown",
   "source": "The objective was to better understand the transcriptomic effects of chronic opioid exposure and physical dependence under chronic pain states in the brain reward circuitry."
  },
  {
   "cell_type": "markdown",
   "metadata": {
    "vscode": {
     "languageId": "plaintext"
    }
   },
   "source": [
    "What do the conditions mean?"
   ]
  },
  {
   "cell_type": "markdown",
   "metadata": {},
   "source": [
    "oxy: oxycodone injections\n",
    "\n",
    "\n",
    "sal: saline injections (control)"
   ]
  },
  {
   "cell_type": "markdown",
   "metadata": {},
   "source": [
    "What do the genotypes mean?"
   ]
  },
  {
   "cell_type": "markdown",
   "metadata": {},
   "source": [
    "SNI: spared nerve injury surgery\n",
    "\n",
    "\n",
    "Sham: placebo surgery (control)"
   ]
  },
  {
   "cell_type": "markdown",
   "metadata": {},
   "source": [
    "Imagine you are the bioinformatician in the group who conducted this study. They hand you the raw files and ask you to analyze them.\n",
    "\n",
    "What would you do?\n",
    "\n",
    "Which groups would you compare to each other?\n",
    "\n",
    "Please also mention which outcome you would expect to see from each comparison."
   ]
  },
  {
   "metadata": {},
   "cell_type": "markdown",
   "source": [
    "For differential abundance analysis, I would start with quality control of the raw data, align reads, and generate a count matrix. Then, I would perform QC to detect outliers, filter lowly expressed genes, and normalize the data. Finally, I would correct for batch effects if necessary.\n",
    "\n",
    "It would be interesting to compare the Sham-Sal mice with the Sham-Oxy mice to see how oxycodone affects gene expression in healthy mice. It would also be interesting to compare SNI-Sal to SNI-Oxy to see how oxycodone affects mice with spared nerve injury. By quantifying the difference between Sham-Sal and Sham-Oxy, and comparing it to the difference between SNI-Sal and SNI-Oxy, we can assess the impact of oxycodone in Sham versus SNI mice. If I was interested in the influence of spared nerve injury on gene expression, I would compare the SNI-Sal to the Sham-Sal mice. To investigate the influence of chronic neuropathic pain states with combined oxycodone exposure, I would compare the SNI-Oxy mice with the Sham-Sal mice. \n",
    "\n",
    "In each comparison, I would expect to see differences in gene expression between the groups. "
   ]
  },
  {
   "cell_type": "markdown",
   "metadata": {},
   "source": [
    "Your group gave you a very suboptimal excel sheet (conditions_runs_oxy_project.xlsx) to get the information you need for each run they uploaded to the SRA.<br>\n",
    "So, instead of directly diving into downloading the data and starting the analysis, you first need to sort the lazy table.<br>\n",
    "Use Python and Pandas to get the table into a more sensible order.<br>\n",
    "Then, perform some overview analysis and plot the results\n",
    "1. How many samples do you have per condition?\n",
    "2. How many samples do you have per genotype?\n",
    "3. How often do you have each condition per genotype?"
   ]
  },
  {
   "cell_type": "code",
   "metadata": {
    "ExecuteTime": {
     "end_time": "2024-10-11T13:21:11.520948Z",
     "start_time": "2024-10-11T13:21:10.416340Z"
    }
   },
   "source": [
    "import pandas as pd\n",
    "import numpy as np\n",
    "\n",
    "df = pd.read_excel('conditions_runs_oxy_project.xlsx')"
   ],
   "outputs": [],
   "execution_count": 1
  },
  {
   "cell_type": "code",
   "metadata": {
    "ExecuteTime": {
     "end_time": "2024-09-30T13:14:33.007583Z",
     "start_time": "2024-09-30T13:14:33.000659Z"
    }
   },
   "source": [
    "print('# samples for condtion Sal: ', np.sum(df['condition: Sal'] == 'x'))\n",
    "print('# samples for condtion Oxy: ', np.sum(df['Condition: Oxy'] == 'x'))"
   ],
   "outputs": [
    {
     "name": "stdout",
     "output_type": "stream",
     "text": [
      "# samples for condtion Sal:  8\n",
      "# samples for condtion Oxy:  8\n"
     ]
    }
   ],
   "execution_count": 22
  },
  {
   "cell_type": "code",
   "metadata": {
    "ExecuteTime": {
     "end_time": "2024-09-30T13:15:46.678920Z",
     "start_time": "2024-09-30T13:15:46.674241Z"
    }
   },
   "source": [
    "print('# samples for genotype SNI: ' , np.sum(df['Genotype: SNI'] == 'x'))\n",
    "print('# samples for genotype Sham: ', np.sum(df['Genotype: Sham'] == 'x'))"
   ],
   "outputs": [
    {
     "name": "stdout",
     "output_type": "stream",
     "text": [
      "# samples for genotype SNI:  8\n",
      "# samples for genotype Sham:  8\n"
     ]
    }
   ],
   "execution_count": 24
  },
  {
   "metadata": {
    "ExecuteTime": {
     "end_time": "2024-09-30T13:22:51.892440Z",
     "start_time": "2024-09-30T13:22:51.885259Z"
    }
   },
   "cell_type": "code",
   "source": [
    "print('# condition Sal for genotype SNI: ', np.sum(df.loc[df['Genotype: SNI'] == 'x']['condition: Sal'] == 'x'))\n",
    "print('# condition Oxy for genotype SNI: ', np.sum(df.loc[df['Genotype: SNI'] == 'x']['Condition: Oxy'] == 'x'))"
   ],
   "outputs": [
    {
     "name": "stdout",
     "output_type": "stream",
     "text": [
      "# condition Sal for genotype SNI:  4\n",
      "# condition Oxy for genotype SNI:  4\n"
     ]
    }
   ],
   "execution_count": 34
  },
  {
   "metadata": {
    "ExecuteTime": {
     "end_time": "2024-09-30T13:23:16.522862Z",
     "start_time": "2024-09-30T13:23:16.515008Z"
    }
   },
   "cell_type": "code",
   "source": [
    "print('# condition Sal for genotype Sham: ', np.sum(df.loc[df['Genotype: Sham'] == 'x']['condition: Sal'] == 'x'))\n",
    "print('# condition Oxy for genotype Sham: ', np.sum(df.loc[df['Genotype: Sham'] == 'x']['Condition: Oxy'] == 'x'))"
   ],
   "outputs": [
    {
     "name": "stdout",
     "output_type": "stream",
     "text": [
      "# condition Sal for genotype Sham:  4\n",
      "# condition Oxy for genotype Sham:  4\n"
     ]
    }
   ],
   "execution_count": 35
  },
  {
   "metadata": {
    "ExecuteTime": {
     "end_time": "2024-10-11T13:33:07.530640Z",
     "start_time": "2024-10-11T13:33:07.366410Z"
    }
   },
   "cell_type": "code",
   "source": [
    "import matplotlib.pyplot as plt\n",
    "import numpy as np\n",
    "\n",
    "labels = ['Sham', 'SNI']\n",
    "x = np.arange(len(labels))\n",
    "width = 0.35\n",
    "\n",
    "fig, ax = plt.subplots(figsize=(8, 6))\n",
    "\n",
    "for i in range(2):\n",
    "    ax.bar(x[i], 4, width, label='Oxy' if i == 0 else '', color='red', zorder=2)\n",
    "    ax.bar(x[i], 8, width, label='Sal' if i == 0 else '', color='blue')\n",
    "\n",
    "ax.set_ylabel('# mice')\n",
    "ax.set_title('Distribution of conditions across Sham and SNI mice')\n",
    "ax.set_xticks(x)\n",
    "ax.set_xticklabels(labels)\n",
    "ax.legend()\n",
    "plt.tight_layout()\n",
    "plt.show()"
   ],
   "outputs": [
    {
     "data": {
      "text/plain": [
       "<Figure size 800x600 with 1 Axes>"
      ],
      "image/png": "[encoded data removed]"
     },
     "metadata": {},
     "output_type": "display_data"
    }
   ],
   "execution_count": 15
  },
  {
   "cell_type": "markdown",
   "metadata": {},
   "source": [
    "They were so kind to also provide you with the information of the number of bases per run, so that you can know how much space the data will take on your Cluster.<br>\n",
    "Add a new column to your fancy table with this information (base_counts.csv) and sort your dataframe according to this information and the condition.\n",
    "\n",
    "Then select the 2 smallest runs from your dataset and download them from SRA (maybe an nf-core pipeline can help here?...)"
   ]
  },
  {
   "cell_type": "code",
   "metadata": {
    "ExecuteTime": {
     "end_time": "2024-09-30T13:25:23.831197Z",
     "start_time": "2024-09-30T13:25:23.816672Z"
    }
   },
   "source": "base_counts = pd.read_csv('base_counts.csv')",
   "outputs": [],
   "execution_count": 36
  },
  {
   "cell_type": "code",
   "metadata": {
    "ExecuteTime": {
     "end_time": "2024-09-30T13:27:12.662093Z",
     "start_time": "2024-09-30T13:27:12.616396Z"
    }
   },
   "source": "df = pd.merge(df, base_counts, on='Run')",
   "outputs": [],
   "execution_count": 38
  },
  {
   "cell_type": "code",
   "metadata": {
    "ExecuteTime": {
     "end_time": "2024-09-30T13:31:28.885896Z",
     "start_time": "2024-09-30T13:31:28.874177Z"
    }
   },
   "source": "df.sort_values('Bases', ignore_index=True, inplace=True)",
   "outputs": [],
   "execution_count": null
  },
  {
   "metadata": {},
   "cell_type": "code",
   "outputs": [
    {
     "data": {
      "text/plain": [
       "0    SRR23195516\n",
       "1    SRR23195511\n",
       "Name: Run, dtype: object"
      ]
     },
     "execution_count": 45,
     "metadata": {},
     "output_type": "execute_result"
    }
   ],
   "execution_count": 45,
   "source": "df.iloc[:2]['Run']"
  },
  {
   "metadata": {
    "ExecuteTime": {
     "end_time": "2024-10-01T08:18:36.544491Z",
     "start_time": "2024-10-01T07:53:52.823303Z"
    }
   },
   "cell_type": "code",
   "source": "!nextflow run nf-core/fetchngs -profile docker --input 'run_ids.csv' --outdir './results'",
   "outputs": [
    {
     "name": "stdout",
     "output_type": "stream",
     "text": [
      "/bin/bash: warning: setlocale: LC_ALL: cannot change locale (en_US.UTF-8)\r\n",
      "bash: warning: setlocale: LC_ALL: cannot change locale (en_US.UTF-8)\r\n",
      "\u001B[33mNextflow 24.04.4 is available - Please consider updating your version to it\u001B[m\r\n",
      "N E X T F L O W  ~  version 23.10.1\r\n",
      "Launching `https://github.com/nf-core/fetchngs` [evil_goldwasser] DSL2 - revision: 8ec2d934f9 [master]\r\n",
      "\u001B[33mWARN: Access to undefined parameter `monochromeLogs` -- Initialise it to a default value eg. `params.monochromeLogs = some_value`\u001B[39m\u001B[K\r\n",
      "\r\n",
      "\r\n",
      "-\u001B[2m----------------------------------------------------\u001B[0m-\r\n",
      "                                        \u001B[0;32m,--.\u001B[0;30m/\u001B[0;32m,-.\u001B[0m\r\n",
      "\u001B[0;34m        ___     __   __   __   ___     \u001B[0;32m/,-._.--~'\u001B[0m\r\n",
      "\u001B[0;34m  |\\ | |__  __ /  ` /  \\ |__) |__         \u001B[0;33m}  {\u001B[0m\r\n",
      "\u001B[0;34m  | \\| |       \\__, \\__/ |  \\ |___     \u001B[0;32m\\`-._,-`-,\u001B[0m\r\n",
      "                                        \u001B[0;32m`._,._,'\u001B[0m\r\n",
      "\u001B[0;35m  nf-core/fetchngs v1.12.0-g8ec2d93\u001B[0m\r\n",
      "-\u001B[2m----------------------------------------------------\u001B[0m-\r\n",
      "\u001B[1mCore Nextflow options\u001B[0m\r\n",
      "  \u001B[0;34mrevision       : \u001B[0;32mmaster\u001B[0m\r\n",
      "  \u001B[0;34mrunName        : \u001B[0;32mevil_goldwasser\u001B[0m\r\n",
      "  \u001B[0;34mcontainerEngine: \u001B[0;32mdocker\u001B[0m\r\n",
      "  \u001B[0;34mlaunchDir      : \u001B[0;32m/mnt/c/Users/julia/Documents/Uni/Master/Semester_2/CompWorkflows/day_02\u001B[0m\r\n",
      "  \u001B[0;34mworkDir        : \u001B[0;32m/mnt/c/Users/julia/Documents/Uni/Master/Semester_2/CompWorkflows/day_02/work\u001B[0m\r\n",
      "  \u001B[0;34mprojectDir     : \u001B[0;32m/home/julia/.nextflow/assets/nf-core/fetchngs\u001B[0m\r\n",
      "  \u001B[0;34muserName       : \u001B[0;32mjulia\u001B[0m\r\n",
      "  \u001B[0;34mprofile        : \u001B[0;32mdocker\u001B[0m\r\n",
      "  \u001B[0;34mconfigFiles    : \u001B[0;32m\u001B[0m\r\n",
      "\r\n",
      "\u001B[1mInput/output options\u001B[0m\r\n",
      "  \u001B[0;34minput          : \u001B[0;32mrun_ids.csv\u001B[0m\r\n",
      "  \u001B[0;34moutdir         : \u001B[0;32m./results\u001B[0m\r\n",
      "\r\n",
      "\u001B[1mMax job request options\u001B[0m\r\n",
      "  \u001B[0;34mmax_memory     : \u001B[0;32m7.GB\u001B[0m\r\n",
      "\r\n",
      "!! Only displaying parameters that differ from the pipeline defaults !!\r\n",
      "-\u001B[2m----------------------------------------------------\u001B[0m-\r\n",
      "If you use nf-core/fetchngs for your analysis please cite:\r\n",
      "\r\n",
      "* The pipeline\r\n",
      "  https://doi.org/10.5281/zenodo.5070524\r\n",
      "\r\n",
      "* The nf-core framework\r\n",
      "  https://doi.org/10.1038/s41587-020-0439-x\r\n",
      "\r\n",
      "* Software dependencies\r\n",
      "  https://github.com/nf-core/fetchngs/blob/master/CITATIONS.md\r\n",
      "-\u001B[2m----------------------------------------------------\u001B[0m-\r\n",
      "[-        ] process > NFCORE_FETCHNGS:SRA:SRA_IDS... -\u001B[K\r\n",
      "[-        ] process > NFCORE_FETCHNGS:SRA:SRA_RUN... -\u001B[K\r\n",
      "\u001B[3A\r\n",
      "[-        ] process > NFCORE_FETCHNGS:SRA:SRA_IDS... -\u001B[K\r\n",
      "[-        ] process > NFCORE_FETCHNGS:SRA:SRA_RUN... -\u001B[K\r\n",
      "[-        ] process > NFCORE_FETCHNGS:SRA:SRA_FAS... -\u001B[K\r\n",
      "[-        ] process > NFCORE_FETCHNGS:SRA:FASTQ_D... -\u001B[K\r\n",
      "[-        ] process > NFCORE_FETCHNGS:SRA:FASTQ_D... -\u001B[K\r\n",
      "[-        ] process > NFCORE_FETCHNGS:SRA:FASTQ_D... -\u001B[K\r\n",
      "[-        ] process > NFCORE_FETCHNGS:SRA:ASPERA_CLI -\u001B[K\r\n",
      "[-        ] process > NFCORE_FETCHNGS:SRA:SRA_TO_... -\u001B[K\r\n",
      "[-        ] process > NFCORE_FETCHNGS:SRA:MULTIQC... -\u001B[K\r\n",
      "\u001B[10A\r\n",
      "executor >  local (1)\u001B[K\r\n",
      "[9a/380441] process > NFCORE_FETCHNGS:SRA:SRA_IDS... [  0%] 0 of 2\u001B[K\r\n",
      "[-        ] process > NFCORE_FETCHNGS:SRA:SRA_RUN... -\u001B[K\r\n",
      "[-        ] process > NFCORE_FETCHNGS:SRA:SRA_FAS... -\u001B[K\r\n",
      "[-        ] process > NFCORE_FETCHNGS:SRA:FASTQ_D... -\u001B[K\r\n",
      "[-        ] process > NFCORE_FETCHNGS:SRA:FASTQ_D... -\u001B[K\r\n",
      "[-        ] process > NFCORE_FETCHNGS:SRA:FASTQ_D... -\u001B[K\r\n",
      "[-        ] process > NFCORE_FETCHNGS:SRA:ASPERA_CLI -\u001B[K\r\n",
      "[-        ] process > NFCORE_FETCHNGS:SRA:SRA_TO_... -\u001B[K\r\n",
      "[-        ] process > NFCORE_FETCHNGS:SRA:MULTIQC... -\u001B[K\r\n",
      "\u001B[11A\r\n",
      "executor >  local (1)\u001B[K\r\n",
      "[9a/380441] process > NFCORE_FETCHNGS:SRA:SRA_IDS... [  0%] 0 of 2\u001B[K\r\n",
      "[-        ] process > NFCORE_FETCHNGS:SRA:SRA_RUN... -\u001B[K\r\n",
      "[-        ] process > NFCORE_FETCHNGS:SRA:SRA_FAS... -\u001B[K\r\n",
      "[-        ] process > NFCORE_FETCHNGS:SRA:FASTQ_D... -\u001B[K\r\n",
      "[-        ] process > NFCORE_FETCHNGS:SRA:FASTQ_D... -\u001B[K\r\n",
      "[-        ] process > NFCORE_FETCHNGS:SRA:FASTQ_D... -\u001B[K\r\n",
      "[-        ] process > NFCORE_FETCHNGS:SRA:ASPERA_CLI -\u001B[K\r\n",
      "[-        ] process > NFCORE_FETCHNGS:SRA:SRA_TO_... -\u001B[K\r\n",
      "[-        ] process > NFCORE_FETCHNGS:SRA:MULTIQC... -\u001B[K\r\n",
      "\u001B[11A\r\n",
      "executor >  local (2)\u001B[K\r\n",
      "[9a/380441] process > NFCORE_FETCHNGS:SRA:SRA_IDS... [ 50%] 1 of 2\u001B[K\r\n",
      "[-        ] process > NFCORE_FETCHNGS:SRA:SRA_RUN... [  0%] 0 of 1\u001B[K\r\n",
      "[-        ] process > NFCORE_FETCHNGS:SRA:SRA_FAS... -\u001B[K\r\n",
      "[-        ] process > NFCORE_FETCHNGS:SRA:FASTQ_D... -\u001B[K\r\n",
      "[-        ] process > NFCORE_FETCHNGS:SRA:FASTQ_D... -\u001B[K\r\n",
      "[-        ] process > NFCORE_FETCHNGS:SRA:FASTQ_D... -\u001B[K\r\n",
      "[-        ] process > NFCORE_FETCHNGS:SRA:ASPERA_CLI -\u001B[K\r\n",
      "[-        ] process > NFCORE_FETCHNGS:SRA:SRA_TO_... -\u001B[K\r\n",
      "[-        ] process > NFCORE_FETCHNGS:SRA:MULTIQC... -\u001B[K\r\n",
      "\u001B[11A\r\n",
      "executor >  local (3)\u001B[K\r\n",
      "[79/3743f5] process > NFCORE_FETCHNGS:SRA:SRA_IDS... [100%] 2 of 2 ✔\u001B[K\r\n",
      "[21/6a7434] process > NFCORE_FETCHNGS:SRA:SRA_RUN... [  0%] 0 of 2\u001B[K\r\n",
      "[-        ] process > NFCORE_FETCHNGS:SRA:SRA_FAS... -\u001B[K\r\n",
      "[-        ] process > NFCORE_FETCHNGS:SRA:FASTQ_D... -\u001B[K\r\n",
      "[-        ] process > NFCORE_FETCHNGS:SRA:FASTQ_D... -\u001B[K\r\n",
      "[-        ] process > NFCORE_FETCHNGS:SRA:FASTQ_D... -\u001B[K\r\n",
      "[-        ] process > NFCORE_FETCHNGS:SRA:ASPERA_CLI -\u001B[K\r\n",
      "[-        ] process > NFCORE_FETCHNGS:SRA:SRA_TO_... -\u001B[K\r\n",
      "[-        ] process > NFCORE_FETCHNGS:SRA:MULTIQC... -\u001B[K\r\n",
      "\u001B[11A\r\n",
      "executor >  local (4)\u001B[K\r\n",
      "[79/3743f5] process > NFCORE_FETCHNGS:SRA:SRA_IDS... [100%] 2 of 2 ✔\u001B[K\r\n",
      "[21/6a7434] process > NFCORE_FETCHNGS:SRA:SRA_RUN... [ 50%] 1 of 2\u001B[K\r\n",
      "[-        ] process > NFCORE_FETCHNGS:SRA:SRA_FAS... [  0%] 0 of 1\u001B[K\r\n",
      "[-        ] process > NFCORE_FETCHNGS:SRA:FASTQ_D... -\u001B[K\r\n",
      "[-        ] process > NFCORE_FETCHNGS:SRA:FASTQ_D... -\u001B[K\r\n",
      "[-        ] process > NFCORE_FETCHNGS:SRA:FASTQ_D... -\u001B[K\r\n",
      "[-        ] process > NFCORE_FETCHNGS:SRA:ASPERA_CLI -\u001B[K\r\n",
      "[-        ] process > NFCORE_FETCHNGS:SRA:SRA_TO_... -\u001B[K\r\n",
      "[-        ] process > NFCORE_FETCHNGS:SRA:MULTIQC... -\u001B[K\r\n",
      "\u001B[11A\r\n",
      "executor >  local (5)\u001B[K\r\n",
      "[79/3743f5] process > NFCORE_FETCHNGS:SRA:SRA_IDS... [100%] 2 of 2 ✔\u001B[K\r\n",
      "[0e/6ef662] process > NFCORE_FETCHNGS:SRA:SRA_RUN... [100%] 2 of 2 ✔\u001B[K\r\n",
      "[c7/95879b] process > NFCORE_FETCHNGS:SRA:SRA_FAS... [  0%] 0 of 2\u001B[K\r\n",
      "[-        ] process > NFCORE_FETCHNGS:SRA:FASTQ_D... -\u001B[K\r\n",
      "[-        ] process > NFCORE_FETCHNGS:SRA:FASTQ_D... -\u001B[K\r\n",
      "[-        ] process > NFCORE_FETCHNGS:SRA:FASTQ_D... -\u001B[K\r\n",
      "[-        ] process > NFCORE_FETCHNGS:SRA:ASPERA_CLI -\u001B[K\r\n",
      "[-        ] process > NFCORE_FETCHNGS:SRA:SRA_TO_... -\u001B[K\r\n",
      "[-        ] process > NFCORE_FETCHNGS:SRA:MULTIQC... -\u001B[K\r\n",
      "\u001B[11A\r\n",
      "executor >  local (6)\u001B[K\r\n",
      "[79/3743f5] process > NFCORE_FETCHNGS:SRA:SRA_IDS... [100%] 2 of 2 ✔\u001B[K\r\n",
      "[0e/6ef662] process > NFCORE_FETCHNGS:SRA:SRA_RUN... [100%] 2 of 2 ✔\u001B[K\r\n",
      "[6c/ea23c7] process > NFCORE_FETCHNGS:SRA:SRA_FAS... [  0%] 0 of 2\u001B[K\r\n",
      "[-        ] process > NFCORE_FETCHNGS:SRA:FASTQ_D... -\u001B[K\r\n",
      "[-        ] process > NFCORE_FETCHNGS:SRA:FASTQ_D... -\u001B[K\r\n",
      "[-        ] process > NFCORE_FETCHNGS:SRA:FASTQ_D... -\u001B[K\r\n",
      "[-        ] process > NFCORE_FETCHNGS:SRA:ASPERA_CLI -\u001B[K\r\n",
      "[-        ] process > NFCORE_FETCHNGS:SRA:SRA_TO_... -\u001B[K\r\n",
      "[-        ] process > NFCORE_FETCHNGS:SRA:MULTIQC... -\u001B[K\r\n",
      "\u001B[11A\r\n",
      "executor >  local (6)\u001B[K\r\n",
      "[79/3743f5] process > NFCORE_FETCHNGS:SRA:SRA_IDS... [100%] 2 of 2 ✔\u001B[K\r\n",
      "[0e/6ef662] process > NFCORE_FETCHNGS:SRA:SRA_RUN... [100%] 2 of 2 ✔\u001B[K\r\n",
      "[c7/95879b] process > NFCORE_FETCHNGS:SRA:SRA_FAS... [ 50%] 1 of 2\u001B[K\r\n",
      "[-        ] process > NFCORE_FETCHNGS:SRA:FASTQ_D... -\u001B[K\r\n",
      "[-        ] process > NFCORE_FETCHNGS:SRA:FASTQ_D... -\u001B[K\r\n",
      "[-        ] process > NFCORE_FETCHNGS:SRA:FASTQ_D... -\u001B[K\r\n",
      "[-        ] process > NFCORE_FETCHNGS:SRA:ASPERA_CLI -\u001B[K\r\n",
      "[-        ] process > NFCORE_FETCHNGS:SRA:SRA_TO_... -\u001B[K\r\n",
      "[-        ] process > NFCORE_FETCHNGS:SRA:MULTIQC... -\u001B[K\r\n",
      "\u001B[11A\r\n",
      "executor >  local (6)\u001B[K\r\n",
      "[79/3743f5] process > NFCORE_FETCHNGS:SRA:SRA_IDS... [100%] 2 of 2 ✔\u001B[K\r\n",
      "[0e/6ef662] process > NFCORE_FETCHNGS:SRA:SRA_RUN... [100%] 2 of 2 ✔\u001B[K\r\n",
      "[c7/95879b] process > NFCORE_FETCHNGS:SRA:SRA_FAS... [ 50%] 1 of 2\u001B[K\r\n",
      "[-        ] process > NFCORE_FETCHNGS:SRA:FASTQ_D... -\u001B[K\r\n",
      "[-        ] process > NFCORE_FETCHNGS:SRA:FASTQ_D... -\u001B[K\r\n",
      "[-        ] process > NFCORE_FETCHNGS:SRA:FASTQ_D... -\u001B[K\r\n",
      "[-        ] process > NFCORE_FETCHNGS:SRA:ASPERA_CLI -\u001B[K\r\n",
      "[-        ] process > NFCORE_FETCHNGS:SRA:SRA_TO_... [  0%] 0 of 1\u001B[K\r\n",
      "[-        ] process > NFCORE_FETCHNGS:SRA:MULTIQC... -\u001B[K\r\n",
      "\u001B[11A\r\n",
      "executor >  local (7)\u001B[K\r\n",
      "[79/3743f5] process > NFCORE_FETCHNGS:SRA:SRA_IDS... [100%] 2 of 2 ✔\u001B[K\r\n",
      "[0e/6ef662] process > NFCORE_FETCHNGS:SRA:SRA_RUN... [100%] 2 of 2 ✔\u001B[K\r\n",
      "[c7/95879b] process > NFCORE_FETCHNGS:SRA:SRA_FAS... [ 50%] 1 of 2\u001B[K\r\n",
      "[-        ] process > NFCORE_FETCHNGS:SRA:FASTQ_D... -\u001B[K\r\n",
      "[-        ] process > NFCORE_FETCHNGS:SRA:FASTQ_D... -\u001B[K\r\n",
      "[-        ] process > NFCORE_FETCHNGS:SRA:FASTQ_D... -\u001B[K\r\n",
      "[-        ] process > NFCORE_FETCHNGS:SRA:ASPERA_CLI -\u001B[K\r\n",
      "[e6/03cb74] process > NFCORE_FETCHNGS:SRA:SRA_TO_... [  0%] 0 of 1\u001B[K\r\n",
      "[-        ] process > NFCORE_FETCHNGS:SRA:MULTIQC... -\u001B[K\r\n",
      "\u001B[11A\r\n",
      "executor >  local (7)\u001B[K\r\n",
      "[79/3743f5] process > NFCORE_FETCHNGS:SRA:SRA_IDS... [100%] 2 of 2 ✔\u001B[K\r\n",
      "[0e/6ef662] process > NFCORE_FETCHNGS:SRA:SRA_RUN... [100%] 2 of 2 ✔\u001B[K\r\n",
      "[6c/ea23c7] process > NFCORE_FETCHNGS:SRA:SRA_FAS... [100%] 2 of 2 ✔\u001B[K\r\n",
      "[-        ] process > NFCORE_FETCHNGS:SRA:FASTQ_D... -\u001B[K\r\n",
      "[-        ] process > NFCORE_FETCHNGS:SRA:FASTQ_D... -\u001B[K\r\n",
      "[-        ] process > NFCORE_FETCHNGS:SRA:FASTQ_D... -\u001B[K\r\n",
      "[-        ] process > NFCORE_FETCHNGS:SRA:ASPERA_CLI -\u001B[K\r\n",
      "[e6/03cb74] process > NFCORE_FETCHNGS:SRA:SRA_TO_... [  0%] 0 of 1\u001B[K\r\n",
      "[-        ] process > NFCORE_FETCHNGS:SRA:MULTIQC... -\u001B[K\r\n",
      "\u001B[11A\r\n",
      "executor >  local (8)\u001B[K\r\n",
      "[79/3743f5] process > NFCORE_FETCHNGS:SRA:SRA_IDS... [100%] 2 of 2 ✔\u001B[K\r\n",
      "[0e/6ef662] process > NFCORE_FETCHNGS:SRA:SRA_RUN... [100%] 2 of 2 ✔\u001B[K\r\n",
      "[6c/ea23c7] process > NFCORE_FETCHNGS:SRA:SRA_FAS... [100%] 2 of 2 ✔\u001B[K\r\n",
      "[-        ] process > NFCORE_FETCHNGS:SRA:FASTQ_D... -\u001B[K\r\n",
      "[-        ] process > NFCORE_FETCHNGS:SRA:FASTQ_D... -\u001B[K\r\n",
      "[-        ] process > NFCORE_FETCHNGS:SRA:FASTQ_D... -\u001B[K\r\n",
      "[-        ] process > NFCORE_FETCHNGS:SRA:ASPERA_CLI -\u001B[K\r\n",
      "[27/27ef5a] process > NFCORE_FETCHNGS:SRA:SRA_TO_... [100%] 2 of 2 ✔\u001B[K\r\n",
      "[-        ] process > NFCORE_FETCHNGS:SRA:MULTIQC... -\u001B[K\r\n",
      "\u001B[11A\r\n",
      "executor >  local (9)\u001B[K\r\n",
      "[79/3743f5] process > NFCORE_FETCHNGS:SRA:SRA_IDS... [100%] 2 of 2 ✔\u001B[K\r\n",
      "[0e/6ef662] process > NFCORE_FETCHNGS:SRA:SRA_RUN... [100%] 2 of 2 ✔\u001B[K\r\n",
      "[6c/ea23c7] process > NFCORE_FETCHNGS:SRA:SRA_FAS... [100%] 2 of 2 ✔\u001B[K\r\n",
      "[-        ] process > NFCORE_FETCHNGS:SRA:FASTQ_D... -\u001B[K\r\n",
      "[-        ] process > NFCORE_FETCHNGS:SRA:FASTQ_D... -\u001B[K\r\n",
      "[-        ] process > NFCORE_FETCHNGS:SRA:FASTQ_D... -\u001B[K\r\n",
      "[-        ] process > NFCORE_FETCHNGS:SRA:ASPERA_CLI -\u001B[K\r\n",
      "[27/27ef5a] process > NFCORE_FETCHNGS:SRA:SRA_TO_... [100%] 2 of 2 ✔\u001B[K\r\n",
      "[52/31aacf] process > NFCORE_FETCHNGS:SRA:MULTIQC... [  0%] 0 of 1\u001B[K\r\n",
      "\u001B[11A\r\n",
      "executor >  local (9)\u001B[K\r\n",
      "[79/3743f5] process > NFCORE_FETCHNGS:SRA:SRA_IDS... [100%] 2 of 2 ✔\u001B[K\r\n",
      "[0e/6ef662] process > NFCORE_FETCHNGS:SRA:SRA_RUN... [100%] 2 of 2 ✔\u001B[K\r\n",
      "[6c/ea23c7] process > NFCORE_FETCHNGS:SRA:SRA_FAS... [100%] 2 of 2 ✔\u001B[K\r\n",
      "[-        ] process > NFCORE_FETCHNGS:SRA:FASTQ_D... -\u001B[K\r\n",
      "[-        ] process > NFCORE_FETCHNGS:SRA:FASTQ_D... -\u001B[K\r\n",
      "[-        ] process > NFCORE_FETCHNGS:SRA:FASTQ_D... -\u001B[K\r\n",
      "[-        ] process > NFCORE_FETCHNGS:SRA:ASPERA_CLI -\u001B[K\r\n",
      "[27/27ef5a] process > NFCORE_FETCHNGS:SRA:SRA_TO_... [100%] 2 of 2 ✔\u001B[K\r\n",
      "[52/31aacf] process > NFCORE_FETCHNGS:SRA:MULTIQC... [  0%] 0 of 1\u001B[K\r\n",
      "\u001B[11A\r\n",
      "executor >  local (9)\u001B[K\r\n",
      "[79/3743f5] process > NFCORE_FETCHNGS:SRA:SRA_IDS... [100%] 2 of 2 ✔\u001B[K\r\n",
      "[0e/6ef662] process > NFCORE_FETCHNGS:SRA:SRA_RUN... [100%] 2 of 2 ✔\u001B[K\r\n",
      "[6c/ea23c7] process > NFCORE_FETCHNGS:SRA:SRA_FAS... [100%] 2 of 2 ✔\u001B[K\r\n",
      "[-        ] process > NFCORE_FETCHNGS:SRA:FASTQ_D... -\u001B[K\r\n",
      "[-        ] process > NFCORE_FETCHNGS:SRA:FASTQ_D... -\u001B[K\r\n",
      "[-        ] process > NFCORE_FETCHNGS:SRA:FASTQ_D... -\u001B[K\r\n",
      "[-        ] process > NFCORE_FETCHNGS:SRA:ASPERA_CLI -\u001B[K\r\n",
      "[27/27ef5a] process > NFCORE_FETCHNGS:SRA:SRA_TO_... [100%] 2 of 2 ✔\u001B[K\r\n",
      "[52/31aacf] process > NFCORE_FETCHNGS:SRA:MULTIQC... [100%] 1 of 1 ✔\u001B[K\r\n",
      "\u001B[11A\r\n",
      "executor >  local (9)\u001B[K\r\n",
      "[79/3743f5] process > NFCORE_FETCHNGS:SRA:SRA_IDS... [100%] 2 of 2 ✔\u001B[K\r\n",
      "[0e/6ef662] process > NFCORE_FETCHNGS:SRA:SRA_RUN... [100%] 2 of 2 ✔\u001B[K\r\n",
      "[6c/ea23c7] process > NFCORE_FETCHNGS:SRA:SRA_FAS... [100%] 2 of 2 ✔\u001B[K\r\n",
      "[-        ] process > NFCORE_FETCHNGS:SRA:FASTQ_D... -\u001B[K\r\n",
      "[-        ] process > NFCORE_FETCHNGS:SRA:FASTQ_D... -\u001B[K\r\n",
      "[-        ] process > NFCORE_FETCHNGS:SRA:FASTQ_D... -\u001B[K\r\n",
      "[-        ] process > NFCORE_FETCHNGS:SRA:ASPERA_CLI -\u001B[K\r\n",
      "[27/27ef5a] process > NFCORE_FETCHNGS:SRA:SRA_TO_... [100%] 2 of 2 ✔\u001B[K\r\n",
      "[52/31aacf] process > NFCORE_FETCHNGS:SRA:MULTIQC... [100%] 1 of 1 ✔\u001B[K\r\n",
      "Waiting for file transfers to complete (2 files)\u001B[K\r\n",
      "\u001B[12A\r\n",
      "executor >  local (9)\u001B[K\r\n",
      "[79/3743f5] process > NFCORE_FETCHNGS:SRA:SRA_IDS... [100%] 2 of 2 ✔\u001B[K\r\n",
      "[0e/6ef662] process > NFCORE_FETCHNGS:SRA:SRA_RUN... [100%] 2 of 2 ✔\u001B[K\r\n",
      "[6c/ea23c7] process > NFCORE_FETCHNGS:SRA:SRA_FAS... [100%] 2 of 2 ✔\u001B[K\r\n",
      "[-        ] process > NFCORE_FETCHNGS:SRA:FASTQ_D... -\u001B[K\r\n",
      "[-        ] process > NFCORE_FETCHNGS:SRA:FASTQ_D... -\u001B[K\r\n",
      "[-        ] process > NFCORE_FETCHNGS:SRA:FASTQ_D... -\u001B[K\r\n",
      "[-        ] process > NFCORE_FETCHNGS:SRA:ASPERA_CLI -\u001B[K\r\n",
      "[27/27ef5a] process > NFCORE_FETCHNGS:SRA:SRA_TO_... [100%] 2 of 2 ✔\u001B[K\r\n",
      "[52/31aacf] process > NFCORE_FETCHNGS:SRA:MULTIQC... [100%] 1 of 1 ✔\u001B[K\r\n",
      "-\u001B[0;35m[nf-core/fetchngs]\u001B[0;32m Pipeline completed successfully\u001B[0m-\u001B[K\r\n",
      "\u001B[K\r\n",
      "\u001B[33mWARN: =============================================================================\u001B[K\r\n",
      "  Please double-check the samplesheet that has been auto-created by the pipeline.\u001B[K\r\n",
      "\u001B[K\r\n",
      "  Public databases don't reliably hold information such as strandedness\u001B[K\r\n",
      "  information, controls etc\u001B[K\r\n",
      "\u001B[K\r\n",
      "  All of the sample metadata obtained from the ENA has been appended\u001B[K\r\n",
      "  as additional columns to help you manually curate the samplesheet before\u001B[K\r\n",
      "  running nf-core/other pipelines.\u001B[K\r\n",
      "===================================================================================\u001B[39m\u001B[K\r\n",
      "\u001B[23A\r\n",
      "executor >  local (9)\u001B[K\r\n",
      "[79/3743f5] process > NFCORE_FETCHNGS:SRA:SRA_IDS... [100%] 2 of 2 ✔\u001B[K\r\n",
      "[0e/6ef662] process > NFCORE_FETCHNGS:SRA:SRA_RUN... [100%] 2 of 2 ✔\u001B[K\r\n",
      "[6c/ea23c7] process > NFCORE_FETCHNGS:SRA:SRA_FAS... [100%] 2 of 2 ✔\u001B[K\r\n",
      "[-        ] process > NFCORE_FETCHNGS:SRA:FASTQ_D... -\u001B[K\r\n",
      "[-        ] process > NFCORE_FETCHNGS:SRA:FASTQ_D... -\u001B[K\r\n",
      "[-        ] process > NFCORE_FETCHNGS:SRA:FASTQ_D... -\u001B[K\r\n",
      "[-        ] process > NFCORE_FETCHNGS:SRA:ASPERA_CLI -\u001B[K\r\n",
      "[27/27ef5a] process > NFCORE_FETCHNGS:SRA:SRA_TO_... [100%] 2 of 2 ✔\u001B[K\r\n",
      "[52/31aacf] process > NFCORE_FETCHNGS:SRA:MULTIQC... [100%] 1 of 1 ✔\u001B[K\r\n",
      "-\u001B[0;35m[nf-core/fetchngs]\u001B[0;32m Pipeline completed successfully\u001B[0m-\u001B[K\r\n",
      "\u001B[33mWARN: =============================================================================\u001B[K\r\n",
      "  Please double-check the samplesheet that has been auto-created by the pipeline.\u001B[K\r\n",
      "\u001B[K\r\n",
      "  Public databases don't reliably hold information such as strandedness\u001B[K\r\n",
      "  information, controls etc\u001B[K\r\n",
      "\u001B[K\r\n",
      "  All of the sample metadata obtained from the ENA has been appended\u001B[K\r\n",
      "  as additional columns to help you manually curate the samplesheet before\u001B[K\r\n",
      "  running nf-core/other pipelines.\u001B[K\r\n",
      "===================================================================================\u001B[39m\u001B[K\r\n",
      "\u001B[K\r\n",
      "\u001B[32;1mCompleted at: 01-Oct-2024 10:18:35\r\n",
      "Duration    : 24m 36s\r\n",
      "CPU hours   : 0.8\r\n",
      "Succeeded   : 9\r\n",
      "\u001B[22;39m\u001B[K\r\n",
      "\r\n"
     ]
    }
   ],
   "execution_count": 1
  },
  {
   "cell_type": "markdown",
   "metadata": {},
   "source": [
    "While your files are downloading, get back to the paper and explain how you would try to reproduce the analysis.<br>\n",
    "When you are done with this shout, so we can discuss the different ideas."
   ]
  },
  {
   "metadata": {},
   "cell_type": "markdown",
   "source": "I would reproduce the analysis using an nf-core pipeline, likely `nf-core/rnaseq`, to analyze gene expression from RNA-seq data. This will allow me to compare transcriptional activity across brain regions and identify gene expression profiles linked to the treatment."
  }
 ],
 "metadata": {
  "kernelspec": {
   "display_name": "work",
   "language": "python",
   "name": "python3"
  },
  "language_info": {
   "name": "python",
   "version": "3.10.13"
  }
 },
 "nbformat": 4,
 "nbformat_minor": 2
}
